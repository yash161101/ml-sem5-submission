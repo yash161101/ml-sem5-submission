{
 "cells": [
  {
   "cell_type": "code",
   "execution_count": 1,
   "id": "c0ef3997",
   "metadata": {
    "_cell_guid": "b1076dfc-b9ad-4769-8c92-a6c4dae69d19",
    "_uuid": "8f2839f25d086af736a60e9eeb907d3b93b6e0e5",
    "execution": {
     "iopub.execute_input": "2021-09-10T04:30:27.273911Z",
     "iopub.status.busy": "2021-09-10T04:30:27.272716Z",
     "iopub.status.idle": "2021-09-10T04:30:27.285009Z",
     "shell.execute_reply": "2021-09-10T04:30:27.285365Z",
     "shell.execute_reply.started": "2021-09-10T04:26:21.482409Z"
    },
    "papermill": {
     "duration": 0.039271,
     "end_time": "2021-09-10T04:30:27.285655",
     "exception": false,
     "start_time": "2021-09-10T04:30:27.246384",
     "status": "completed"
    },
    "tags": []
   },
   "outputs": [
    {
     "name": "stdout",
     "output_type": "stream",
     "text": [
      "/kaggle/input/machine-learning-regression-and-regularization/train.csv\n",
      "/kaggle/input/machine-learning-regression-and-regularization/test.csv\n"
     ]
    }
   ],
   "source": [
    "# This Python 3 environment comes with many helpful analytics libraries installed\n",
    "# It is defined by the kaggle/python Docker image: https://github.com/kaggle/docker-python\n",
    "# For example, here's several helpful packages to load\n",
    "\n",
    "import numpy as np # linear algebra\n",
    "import pandas as pd # data processing, CSV file I/O (e.g. pd.read_csv)\n",
    "\n",
    "# Input data files are available in the read-only \"../input/\" directory\n",
    "# For example, running this (by clicking run or pressing Shift+Enter) will list all files under the input directory\n",
    "\n",
    "import os\n",
    "for dirname, _, filenames in os.walk('/kaggle/input'):\n",
    "    for filename in filenames:\n",
    "        print(os.path.join(dirname, filename))\n",
    "\n",
    "# You can write up to 20GB to the current directory (/kaggle/working/) that gets preserved as output when you create a version using \"Save & Run All\" \n",
    "# You can also write temporary files to /kaggle/temp/, but they won't be saved outside of the current session"
   ]
  },
  {
   "cell_type": "code",
   "execution_count": 2,
   "id": "02a0b9be",
   "metadata": {
    "execution": {
     "iopub.execute_input": "2021-09-10T04:30:27.320558Z",
     "iopub.status.busy": "2021-09-10T04:30:27.320000Z",
     "iopub.status.idle": "2021-09-10T04:30:27.563940Z",
     "shell.execute_reply": "2021-09-10T04:30:27.563429Z",
     "shell.execute_reply.started": "2021-09-10T04:26:21.797002Z"
    },
    "papermill": {
     "duration": 0.263281,
     "end_time": "2021-09-10T04:30:27.564067",
     "exception": false,
     "start_time": "2021-09-10T04:30:27.300786",
     "status": "completed"
    },
    "tags": []
   },
   "outputs": [],
   "source": [
    "data=pd.read_csv('/kaggle/input/machine-learning-regression-and-regularization/train.csv')\n",
    "test=pd.read_csv('/kaggle/input/machine-learning-regression-and-regularization/test.csv')"
   ]
  },
  {
   "cell_type": "code",
   "execution_count": 3,
   "id": "b7cee6ab",
   "metadata": {
    "execution": {
     "iopub.execute_input": "2021-09-10T04:30:27.604939Z",
     "iopub.status.busy": "2021-09-10T04:30:27.602688Z",
     "iopub.status.idle": "2021-09-10T04:30:27.633896Z",
     "shell.execute_reply": "2021-09-10T04:30:27.634262Z",
     "shell.execute_reply.started": "2021-09-10T04:26:22.069802Z"
    },
    "papermill": {
     "duration": 0.055465,
     "end_time": "2021-09-10T04:30:27.634412",
     "exception": false,
     "start_time": "2021-09-10T04:30:27.578947",
     "status": "completed"
    },
    "tags": []
   },
   "outputs": [
    {
     "data": {
      "text/html": [
       "<div>\n",
       "<style scoped>\n",
       "    .dataframe tbody tr th:only-of-type {\n",
       "        vertical-align: middle;\n",
       "    }\n",
       "\n",
       "    .dataframe tbody tr th {\n",
       "        vertical-align: top;\n",
       "    }\n",
       "\n",
       "    .dataframe thead th {\n",
       "        text-align: right;\n",
       "    }\n",
       "</style>\n",
       "<table border=\"1\" class=\"dataframe\">\n",
       "  <thead>\n",
       "    <tr style=\"text-align: right;\">\n",
       "      <th></th>\n",
       "      <th>id</th>\n",
       "      <th>index</th>\n",
       "      <th>Name</th>\n",
       "      <th>Platform</th>\n",
       "      <th>Year_of_Release</th>\n",
       "      <th>Genre</th>\n",
       "      <th>Publisher</th>\n",
       "      <th>NA_Sales</th>\n",
       "      <th>EU_Sales</th>\n",
       "      <th>JP_Sales</th>\n",
       "      <th>Other_Sales</th>\n",
       "      <th>Global_Sales</th>\n",
       "      <th>Critic_Score</th>\n",
       "      <th>Critic_Count</th>\n",
       "      <th>User_Score</th>\n",
       "      <th>User_Count</th>\n",
       "      <th>Developer</th>\n",
       "      <th>Rating</th>\n",
       "    </tr>\n",
       "  </thead>\n",
       "  <tbody>\n",
       "    <tr>\n",
       "      <th>0</th>\n",
       "      <td>10717</td>\n",
       "      <td>5596</td>\n",
       "      <td>Darkwatch</td>\n",
       "      <td>PS2</td>\n",
       "      <td>2005.0</td>\n",
       "      <td>Shooter</td>\n",
       "      <td>Ubisoft</td>\n",
       "      <td>0.16</td>\n",
       "      <td>0.12</td>\n",
       "      <td>0.0</td>\n",
       "      <td>0.04</td>\n",
       "      <td>0.32</td>\n",
       "      <td>74.0</td>\n",
       "      <td>37.0</td>\n",
       "      <td>8.4</td>\n",
       "      <td>42.0</td>\n",
       "      <td>High Moon Studios</td>\n",
       "      <td>M</td>\n",
       "    </tr>\n",
       "  </tbody>\n",
       "</table>\n",
       "</div>"
      ],
      "text/plain": [
       "      id  index       Name Platform  Year_of_Release    Genre Publisher  \\\n",
       "0  10717   5596  Darkwatch      PS2           2005.0  Shooter   Ubisoft   \n",
       "\n",
       "   NA_Sales  EU_Sales  JP_Sales  Other_Sales  Global_Sales  Critic_Score  \\\n",
       "0      0.16      0.12       0.0         0.04          0.32          74.0   \n",
       "\n",
       "   Critic_Count User_Score  User_Count          Developer Rating  \n",
       "0          37.0        8.4        42.0  High Moon Studios      M  "
      ]
     },
     "execution_count": 3,
     "metadata": {},
     "output_type": "execute_result"
    }
   ],
   "source": [
    "data.head(1)"
   ]
  },
  {
   "cell_type": "code",
   "execution_count": 4,
   "id": "4cbc40bd",
   "metadata": {
    "execution": {
     "iopub.execute_input": "2021-09-10T04:30:27.666921Z",
     "iopub.status.busy": "2021-09-10T04:30:27.666450Z",
     "iopub.status.idle": "2021-09-10T04:30:27.697463Z",
     "shell.execute_reply": "2021-09-10T04:30:27.697850Z",
     "shell.execute_reply.started": "2021-09-10T04:26:22.316681Z"
    },
    "papermill": {
     "duration": 0.04871,
     "end_time": "2021-09-10T04:30:27.697988",
     "exception": false,
     "start_time": "2021-09-10T04:30:27.649278",
     "status": "completed"
    },
    "tags": []
   },
   "outputs": [
    {
     "data": {
      "text/html": [
       "<div>\n",
       "<style scoped>\n",
       "    .dataframe tbody tr th:only-of-type {\n",
       "        vertical-align: middle;\n",
       "    }\n",
       "\n",
       "    .dataframe tbody tr th {\n",
       "        vertical-align: top;\n",
       "    }\n",
       "\n",
       "    .dataframe thead th {\n",
       "        text-align: right;\n",
       "    }\n",
       "</style>\n",
       "<table border=\"1\" class=\"dataframe\">\n",
       "  <thead>\n",
       "    <tr style=\"text-align: right;\">\n",
       "      <th></th>\n",
       "      <th>id</th>\n",
       "      <th>index</th>\n",
       "      <th>Year_of_Release</th>\n",
       "      <th>NA_Sales</th>\n",
       "      <th>EU_Sales</th>\n",
       "      <th>JP_Sales</th>\n",
       "      <th>Other_Sales</th>\n",
       "      <th>Global_Sales</th>\n",
       "      <th>Critic_Score</th>\n",
       "      <th>Critic_Count</th>\n",
       "      <th>User_Count</th>\n",
       "    </tr>\n",
       "  </thead>\n",
       "  <tbody>\n",
       "    <tr>\n",
       "      <th>id</th>\n",
       "      <td>1.000000</td>\n",
       "      <td>0.003766</td>\n",
       "      <td>0.009477</td>\n",
       "      <td>-0.004008</td>\n",
       "      <td>0.008141</td>\n",
       "      <td>-0.018389</td>\n",
       "      <td>0.001010</td>\n",
       "      <td>-0.003251</td>\n",
       "      <td>-0.010824</td>\n",
       "      <td>0.004230</td>\n",
       "      <td>0.002026</td>\n",
       "    </tr>\n",
       "    <tr>\n",
       "      <th>index</th>\n",
       "      <td>0.003766</td>\n",
       "      <td>1.000000</td>\n",
       "      <td>0.188738</td>\n",
       "      <td>-0.428345</td>\n",
       "      <td>-0.405957</td>\n",
       "      <td>-0.263212</td>\n",
       "      <td>-0.338187</td>\n",
       "      <td>-0.456775</td>\n",
       "      <td>-0.362990</td>\n",
       "      <td>-0.423550</td>\n",
       "      <td>-0.180978</td>\n",
       "    </tr>\n",
       "    <tr>\n",
       "      <th>Year_of_Release</th>\n",
       "      <td>0.009477</td>\n",
       "      <td>0.188738</td>\n",
       "      <td>1.000000</td>\n",
       "      <td>-0.097433</td>\n",
       "      <td>0.004897</td>\n",
       "      <td>-0.164073</td>\n",
       "      <td>0.037609</td>\n",
       "      <td>-0.080032</td>\n",
       "      <td>0.010518</td>\n",
       "      <td>0.217390</td>\n",
       "      <td>0.163339</td>\n",
       "    </tr>\n",
       "    <tr>\n",
       "      <th>NA_Sales</th>\n",
       "      <td>-0.004008</td>\n",
       "      <td>-0.428345</td>\n",
       "      <td>-0.097433</td>\n",
       "      <td>1.000000</td>\n",
       "      <td>0.722323</td>\n",
       "      <td>0.435876</td>\n",
       "      <td>0.578758</td>\n",
       "      <td>0.928236</td>\n",
       "      <td>0.268360</td>\n",
       "      <td>0.332091</td>\n",
       "      <td>0.282563</td>\n",
       "    </tr>\n",
       "    <tr>\n",
       "      <th>EU_Sales</th>\n",
       "      <td>0.008141</td>\n",
       "      <td>-0.405957</td>\n",
       "      <td>0.004897</td>\n",
       "      <td>0.722323</td>\n",
       "      <td>1.000000</td>\n",
       "      <td>0.448125</td>\n",
       "      <td>0.653854</td>\n",
       "      <td>0.884414</td>\n",
       "      <td>0.246119</td>\n",
       "      <td>0.308722</td>\n",
       "      <td>0.315444</td>\n",
       "    </tr>\n",
       "    <tr>\n",
       "      <th>JP_Sales</th>\n",
       "      <td>-0.018389</td>\n",
       "      <td>-0.263212</td>\n",
       "      <td>-0.164073</td>\n",
       "      <td>0.435876</td>\n",
       "      <td>0.448125</td>\n",
       "      <td>1.000000</td>\n",
       "      <td>0.276789</td>\n",
       "      <td>0.624966</td>\n",
       "      <td>0.146114</td>\n",
       "      <td>0.172413</td>\n",
       "      <td>0.065667</td>\n",
       "    </tr>\n",
       "    <tr>\n",
       "      <th>Other_Sales</th>\n",
       "      <td>0.001010</td>\n",
       "      <td>-0.338187</td>\n",
       "      <td>0.037609</td>\n",
       "      <td>0.578758</td>\n",
       "      <td>0.653854</td>\n",
       "      <td>0.276789</td>\n",
       "      <td>1.000000</td>\n",
       "      <td>0.705188</td>\n",
       "      <td>0.205468</td>\n",
       "      <td>0.256958</td>\n",
       "      <td>0.241328</td>\n",
       "    </tr>\n",
       "    <tr>\n",
       "      <th>Global_Sales</th>\n",
       "      <td>-0.003251</td>\n",
       "      <td>-0.456775</td>\n",
       "      <td>-0.080032</td>\n",
       "      <td>0.928236</td>\n",
       "      <td>0.884414</td>\n",
       "      <td>0.624966</td>\n",
       "      <td>0.705188</td>\n",
       "      <td>1.000000</td>\n",
       "      <td>0.272965</td>\n",
       "      <td>0.338244</td>\n",
       "      <td>0.297588</td>\n",
       "    </tr>\n",
       "    <tr>\n",
       "      <th>Critic_Score</th>\n",
       "      <td>-0.010824</td>\n",
       "      <td>-0.362990</td>\n",
       "      <td>0.010518</td>\n",
       "      <td>0.268360</td>\n",
       "      <td>0.246119</td>\n",
       "      <td>0.146114</td>\n",
       "      <td>0.205468</td>\n",
       "      <td>0.272965</td>\n",
       "      <td>1.000000</td>\n",
       "      <td>0.430414</td>\n",
       "      <td>0.264491</td>\n",
       "    </tr>\n",
       "    <tr>\n",
       "      <th>Critic_Count</th>\n",
       "      <td>0.004230</td>\n",
       "      <td>-0.423550</td>\n",
       "      <td>0.217390</td>\n",
       "      <td>0.332091</td>\n",
       "      <td>0.308722</td>\n",
       "      <td>0.172413</td>\n",
       "      <td>0.256958</td>\n",
       "      <td>0.338244</td>\n",
       "      <td>0.430414</td>\n",
       "      <td>1.000000</td>\n",
       "      <td>0.352324</td>\n",
       "    </tr>\n",
       "    <tr>\n",
       "      <th>User_Count</th>\n",
       "      <td>0.002026</td>\n",
       "      <td>-0.180978</td>\n",
       "      <td>0.163339</td>\n",
       "      <td>0.282563</td>\n",
       "      <td>0.315444</td>\n",
       "      <td>0.065667</td>\n",
       "      <td>0.241328</td>\n",
       "      <td>0.297588</td>\n",
       "      <td>0.264491</td>\n",
       "      <td>0.352324</td>\n",
       "      <td>1.000000</td>\n",
       "    </tr>\n",
       "  </tbody>\n",
       "</table>\n",
       "</div>"
      ],
      "text/plain": [
       "                       id     index  Year_of_Release  NA_Sales  EU_Sales  \\\n",
       "id               1.000000  0.003766         0.009477 -0.004008  0.008141   \n",
       "index            0.003766  1.000000         0.188738 -0.428345 -0.405957   \n",
       "Year_of_Release  0.009477  0.188738         1.000000 -0.097433  0.004897   \n",
       "NA_Sales        -0.004008 -0.428345        -0.097433  1.000000  0.722323   \n",
       "EU_Sales         0.008141 -0.405957         0.004897  0.722323  1.000000   \n",
       "JP_Sales        -0.018389 -0.263212        -0.164073  0.435876  0.448125   \n",
       "Other_Sales      0.001010 -0.338187         0.037609  0.578758  0.653854   \n",
       "Global_Sales    -0.003251 -0.456775        -0.080032  0.928236  0.884414   \n",
       "Critic_Score    -0.010824 -0.362990         0.010518  0.268360  0.246119   \n",
       "Critic_Count     0.004230 -0.423550         0.217390  0.332091  0.308722   \n",
       "User_Count       0.002026 -0.180978         0.163339  0.282563  0.315444   \n",
       "\n",
       "                 JP_Sales  Other_Sales  Global_Sales  Critic_Score  \\\n",
       "id              -0.018389     0.001010     -0.003251     -0.010824   \n",
       "index           -0.263212    -0.338187     -0.456775     -0.362990   \n",
       "Year_of_Release -0.164073     0.037609     -0.080032      0.010518   \n",
       "NA_Sales         0.435876     0.578758      0.928236      0.268360   \n",
       "EU_Sales         0.448125     0.653854      0.884414      0.246119   \n",
       "JP_Sales         1.000000     0.276789      0.624966      0.146114   \n",
       "Other_Sales      0.276789     1.000000      0.705188      0.205468   \n",
       "Global_Sales     0.624966     0.705188      1.000000      0.272965   \n",
       "Critic_Score     0.146114     0.205468      0.272965      1.000000   \n",
       "Critic_Count     0.172413     0.256958      0.338244      0.430414   \n",
       "User_Count       0.065667     0.241328      0.297588      0.264491   \n",
       "\n",
       "                 Critic_Count  User_Count  \n",
       "id                   0.004230    0.002026  \n",
       "index               -0.423550   -0.180978  \n",
       "Year_of_Release      0.217390    0.163339  \n",
       "NA_Sales             0.332091    0.282563  \n",
       "EU_Sales             0.308722    0.315444  \n",
       "JP_Sales             0.172413    0.065667  \n",
       "Other_Sales          0.256958    0.241328  \n",
       "Global_Sales         0.338244    0.297588  \n",
       "Critic_Score         0.430414    0.264491  \n",
       "Critic_Count         1.000000    0.352324  \n",
       "User_Count           0.352324    1.000000  "
      ]
     },
     "execution_count": 4,
     "metadata": {},
     "output_type": "execute_result"
    }
   ],
   "source": [
    "data.corr()"
   ]
  },
  {
   "cell_type": "code",
   "execution_count": 5,
   "id": "a0802085",
   "metadata": {
    "execution": {
     "iopub.execute_input": "2021-09-10T04:30:27.747832Z",
     "iopub.status.busy": "2021-09-10T04:30:27.739685Z",
     "iopub.status.idle": "2021-09-10T04:30:27.751733Z",
     "shell.execute_reply": "2021-09-10T04:30:27.751292Z",
     "shell.execute_reply.started": "2021-09-10T04:26:22.529280Z"
    },
    "papermill": {
     "duration": 0.03822,
     "end_time": "2021-09-10T04:30:27.751840",
     "exception": false,
     "start_time": "2021-09-10T04:30:27.713620",
     "status": "completed"
    },
    "tags": []
   },
   "outputs": [
    {
     "data": {
      "text/html": [
       "<div>\n",
       "<style scoped>\n",
       "    .dataframe tbody tr th:only-of-type {\n",
       "        vertical-align: middle;\n",
       "    }\n",
       "\n",
       "    .dataframe tbody tr th {\n",
       "        vertical-align: top;\n",
       "    }\n",
       "\n",
       "    .dataframe thead th {\n",
       "        text-align: right;\n",
       "    }\n",
       "</style>\n",
       "<table border=\"1\" class=\"dataframe\">\n",
       "  <thead>\n",
       "    <tr style=\"text-align: right;\">\n",
       "      <th></th>\n",
       "      <th>id</th>\n",
       "      <th>Name</th>\n",
       "      <th>Platform</th>\n",
       "      <th>Year_of_Release</th>\n",
       "      <th>Genre</th>\n",
       "      <th>Publisher</th>\n",
       "      <th>NA_Sales</th>\n",
       "      <th>EU_Sales</th>\n",
       "      <th>JP_Sales</th>\n",
       "      <th>Other_Sales</th>\n",
       "      <th>Critic_Score</th>\n",
       "      <th>Critic_Count</th>\n",
       "      <th>User_Score</th>\n",
       "      <th>User_Count</th>\n",
       "      <th>Developer</th>\n",
       "      <th>Rating</th>\n",
       "    </tr>\n",
       "  </thead>\n",
       "  <tbody>\n",
       "    <tr>\n",
       "      <th>0</th>\n",
       "      <td>11</td>\n",
       "      <td>Caesars Palace II</td>\n",
       "      <td>PS</td>\n",
       "      <td>1998.0</td>\n",
       "      <td>Misc</td>\n",
       "      <td>Interplay</td>\n",
       "      <td>0.14</td>\n",
       "      <td>0.09</td>\n",
       "      <td>0.0</td>\n",
       "      <td>0.02</td>\n",
       "      <td>NaN</td>\n",
       "      <td>NaN</td>\n",
       "      <td>NaN</td>\n",
       "      <td>NaN</td>\n",
       "      <td>NaN</td>\n",
       "      <td>NaN</td>\n",
       "    </tr>\n",
       "  </tbody>\n",
       "</table>\n",
       "</div>"
      ],
      "text/plain": [
       "   id               Name Platform  Year_of_Release Genre  Publisher  NA_Sales  \\\n",
       "0  11  Caesars Palace II       PS           1998.0  Misc  Interplay      0.14   \n",
       "\n",
       "   EU_Sales  JP_Sales  Other_Sales  Critic_Score  Critic_Count User_Score  \\\n",
       "0      0.09       0.0         0.02           NaN           NaN        NaN   \n",
       "\n",
       "   User_Count Developer Rating  \n",
       "0         NaN       NaN    NaN  "
      ]
     },
     "execution_count": 5,
     "metadata": {},
     "output_type": "execute_result"
    }
   ],
   "source": [
    "test.head(1)"
   ]
  },
  {
   "cell_type": "code",
   "execution_count": 6,
   "id": "88f69da3",
   "metadata": {
    "execution": {
     "iopub.execute_input": "2021-09-10T04:30:27.812839Z",
     "iopub.status.busy": "2021-09-10T04:30:27.799497Z",
     "iopub.status.idle": "2021-09-10T04:30:27.826219Z",
     "shell.execute_reply": "2021-09-10T04:30:27.826717Z",
     "shell.execute_reply.started": "2021-09-10T04:26:22.749343Z"
    },
    "papermill": {
     "duration": 0.059464,
     "end_time": "2021-09-10T04:30:27.826869",
     "exception": false,
     "start_time": "2021-09-10T04:30:27.767405",
     "status": "completed"
    },
    "tags": []
   },
   "outputs": [
    {
     "name": "stderr",
     "output_type": "stream",
     "text": [
      "/opt/conda/lib/python3.7/site-packages/ipykernel_launcher.py:2: FutureWarning: The default value of regex will change from True to False in a future version.\n",
      "  \n",
      "/opt/conda/lib/python3.7/site-packages/ipykernel_launcher.py:6: FutureWarning: The default value of regex will change from True to False in a future version.\n",
      "  \n"
     ]
    }
   ],
   "source": [
    "#changing the dtype\n",
    "data['User_Score'] = data['User_Score'].str.replace(r'\\D', '')\n",
    "data['User_Score']=pd.to_numeric(data['User_Score'], downcast='float')\n",
    "\n",
    "#test\n",
    "test['User_Score'] = test['User_Score'].str.replace(r'\\D', '')\n",
    "test['User_Score']=pd.to_numeric(test['User_Score'], downcast='float')\n"
   ]
  },
  {
   "cell_type": "code",
   "execution_count": 7,
   "id": "cb0cb906",
   "metadata": {
    "execution": {
     "iopub.execute_input": "2021-09-10T04:30:27.873150Z",
     "iopub.status.busy": "2021-09-10T04:30:27.872497Z",
     "iopub.status.idle": "2021-09-10T04:30:27.882264Z",
     "shell.execute_reply": "2021-09-10T04:30:27.882656Z",
     "shell.execute_reply.started": "2021-09-10T04:26:22.930139Z"
    },
    "papermill": {
     "duration": 0.039419,
     "end_time": "2021-09-10T04:30:27.882808",
     "exception": false,
     "start_time": "2021-09-10T04:30:27.843389",
     "status": "completed"
    },
    "tags": []
   },
   "outputs": [],
   "source": [
    "#Replacing the nan in numerical col with mean\n",
    "\n",
    "data['NA_Sales']=data['NA_Sales'].fillna(data['NA_Sales'].mean())\n",
    "data['EU_Sales']=data['EU_Sales'].fillna(data['EU_Sales'].mean())\n",
    "data['JP_Sales']=data['JP_Sales'].fillna(data['JP_Sales'].mean())\n",
    "data['Other_Sales']=data['Other_Sales'].fillna(data['Other_Sales'].mean())\n",
    "data['Global_Sales']=data['Global_Sales'].fillna(data['Global_Sales'].mean())\n",
    "data['Critic_Score']=data['Critic_Score'].fillna(data['Critic_Score'].mean())\n",
    "data['Critic_Count']=data['Critic_Count'].fillna(data['Critic_Count'].mean())\n",
    "data['User_Score']=data['User_Score'].fillna(data['User_Score'].mean())\n",
    "data['User_Count']=data['User_Count'].fillna(data['User_Count'].mean())\n",
    "\n",
    "\n",
    "\n",
    "test['NA_Sales']=test['NA_Sales'].fillna(test['NA_Sales'].mean())\n",
    "test['EU_Sales']=test['EU_Sales'].fillna(test['EU_Sales'].mean())\n",
    "test['JP_Sales']=test['JP_Sales'].fillna(test['JP_Sales'].mean())\n",
    "test['Other_Sales']=test['Other_Sales'].fillna(test['Other_Sales'].mean())\n",
    "test['Critic_Score']=test['Critic_Score'].fillna(test['Critic_Score'].mean())\n",
    "test['Critic_Count']=test['Critic_Count'].fillna(test['Critic_Count'].mean())\n",
    "test['User_Score']=test['User_Score'].fillna(test['User_Score'].mean())\n",
    "test['User_Count']=test['User_Count'].fillna(test['User_Count'].mean())"
   ]
  },
  {
   "cell_type": "code",
   "execution_count": 8,
   "id": "761b1ed2",
   "metadata": {
    "execution": {
     "iopub.execute_input": "2021-09-10T04:30:27.927214Z",
     "iopub.status.busy": "2021-09-10T04:30:27.926701Z",
     "iopub.status.idle": "2021-09-10T04:30:27.928897Z",
     "shell.execute_reply": "2021-09-10T04:30:27.929248Z",
     "shell.execute_reply.started": "2021-09-10T04:26:23.123181Z"
    },
    "papermill": {
     "duration": 0.03002,
     "end_time": "2021-09-10T04:30:27.929387",
     "exception": false,
     "start_time": "2021-09-10T04:30:27.899367",
     "status": "completed"
    },
    "tags": []
   },
   "outputs": [],
   "source": [
    "# as rating is a key to the sales so we replaced the highly used rating to replace with the nan\n",
    "data.Rating.unique()\n",
    "data.Rating = data.Rating .fillna('E')\n",
    "\n",
    "test.Rating.unique()\n",
    "test.Rating = test.Rating .fillna('E')"
   ]
  },
  {
   "cell_type": "code",
   "execution_count": 9,
   "id": "259a6e7f",
   "metadata": {
    "execution": {
     "iopub.execute_input": "2021-09-10T04:30:27.980889Z",
     "iopub.status.busy": "2021-09-10T04:30:27.972722Z",
     "iopub.status.idle": "2021-09-10T04:30:27.984063Z",
     "shell.execute_reply": "2021-09-10T04:30:27.984416Z",
     "shell.execute_reply.started": "2021-09-10T04:26:23.313414Z"
    },
    "papermill": {
     "duration": 0.038995,
     "end_time": "2021-09-10T04:30:27.984598",
     "exception": false,
     "start_time": "2021-09-10T04:30:27.945603",
     "status": "completed"
    },
    "tags": []
   },
   "outputs": [
    {
     "data": {
      "text/html": [
       "<div>\n",
       "<style scoped>\n",
       "    .dataframe tbody tr th:only-of-type {\n",
       "        vertical-align: middle;\n",
       "    }\n",
       "\n",
       "    .dataframe tbody tr th {\n",
       "        vertical-align: top;\n",
       "    }\n",
       "\n",
       "    .dataframe thead th {\n",
       "        text-align: right;\n",
       "    }\n",
       "</style>\n",
       "<table border=\"1\" class=\"dataframe\">\n",
       "  <thead>\n",
       "    <tr style=\"text-align: right;\">\n",
       "      <th></th>\n",
       "      <th>id</th>\n",
       "      <th>index</th>\n",
       "      <th>Name</th>\n",
       "      <th>Platform</th>\n",
       "      <th>Year_of_Release</th>\n",
       "      <th>Genre</th>\n",
       "      <th>Publisher</th>\n",
       "      <th>NA_Sales</th>\n",
       "      <th>EU_Sales</th>\n",
       "      <th>JP_Sales</th>\n",
       "      <th>Other_Sales</th>\n",
       "      <th>Global_Sales</th>\n",
       "      <th>Critic_Score</th>\n",
       "      <th>Critic_Count</th>\n",
       "      <th>User_Score</th>\n",
       "      <th>User_Count</th>\n",
       "      <th>Developer</th>\n",
       "      <th>Rating</th>\n",
       "    </tr>\n",
       "  </thead>\n",
       "  <tbody>\n",
       "    <tr>\n",
       "      <th>0</th>\n",
       "      <td>10717</td>\n",
       "      <td>5596</td>\n",
       "      <td>Darkwatch</td>\n",
       "      <td>PS2</td>\n",
       "      <td>2005.0</td>\n",
       "      <td>Shooter</td>\n",
       "      <td>Ubisoft</td>\n",
       "      <td>0.16</td>\n",
       "      <td>0.12</td>\n",
       "      <td>0.0</td>\n",
       "      <td>0.04</td>\n",
       "      <td>0.32</td>\n",
       "      <td>74.0</td>\n",
       "      <td>37.0</td>\n",
       "      <td>84.0</td>\n",
       "      <td>42.0</td>\n",
       "      <td>High Moon Studios</td>\n",
       "      <td>M</td>\n",
       "    </tr>\n",
       "  </tbody>\n",
       "</table>\n",
       "</div>"
      ],
      "text/plain": [
       "      id  index       Name Platform  Year_of_Release    Genre Publisher  \\\n",
       "0  10717   5596  Darkwatch      PS2           2005.0  Shooter   Ubisoft   \n",
       "\n",
       "   NA_Sales  EU_Sales  JP_Sales  Other_Sales  Global_Sales  Critic_Score  \\\n",
       "0      0.16      0.12       0.0         0.04          0.32          74.0   \n",
       "\n",
       "   Critic_Count  User_Score  User_Count          Developer Rating  \n",
       "0          37.0        84.0        42.0  High Moon Studios      M  "
      ]
     },
     "execution_count": 9,
     "metadata": {},
     "output_type": "execute_result"
    }
   ],
   "source": [
    "data.head(1)"
   ]
  },
  {
   "cell_type": "code",
   "execution_count": 10,
   "id": "a73a009b",
   "metadata": {
    "execution": {
     "iopub.execute_input": "2021-09-10T04:30:28.029997Z",
     "iopub.status.busy": "2021-09-10T04:30:28.029317Z",
     "iopub.status.idle": "2021-09-10T04:30:28.033296Z",
     "shell.execute_reply": "2021-09-10T04:30:28.032788Z",
     "shell.execute_reply.started": "2021-09-10T04:26:23.499418Z"
    },
    "papermill": {
     "duration": 0.032357,
     "end_time": "2021-09-10T04:30:28.033409",
     "exception": false,
     "start_time": "2021-09-10T04:30:28.001052",
     "status": "completed"
    },
    "tags": []
   },
   "outputs": [],
   "source": [
    "#removing the unwanted data\n",
    "data=data.drop(['index','Name','Publisher','Developer','Year_of_Release'], axis=1)\n",
    "\n",
    "test=test.drop(['Name','Publisher','Developer','Year_of_Release'], axis=1)\n"
   ]
  },
  {
   "cell_type": "code",
   "execution_count": 11,
   "id": "a3c89d03",
   "metadata": {
    "execution": {
     "iopub.execute_input": "2021-09-10T04:30:28.070731Z",
     "iopub.status.busy": "2021-09-10T04:30:28.070039Z",
     "iopub.status.idle": "2021-09-10T04:30:28.073407Z",
     "shell.execute_reply": "2021-09-10T04:30:28.072898Z",
     "shell.execute_reply.started": "2021-09-10T04:26:23.690100Z"
    },
    "papermill": {
     "duration": 0.023589,
     "end_time": "2021-09-10T04:30:28.073548",
     "exception": false,
     "start_time": "2021-09-10T04:30:28.049959",
     "status": "completed"
    },
    "tags": []
   },
   "outputs": [],
   "source": [
    "# data['Year_of_Release']=data['Year_of_Release'].astype(object)"
   ]
  },
  {
   "cell_type": "code",
   "execution_count": 12,
   "id": "de86ea88",
   "metadata": {
    "execution": {
     "iopub.execute_input": "2021-09-10T04:30:28.112446Z",
     "iopub.status.busy": "2021-09-10T04:30:28.111930Z",
     "iopub.status.idle": "2021-09-10T04:30:29.075847Z",
     "shell.execute_reply": "2021-09-10T04:30:29.075350Z",
     "shell.execute_reply.started": "2021-09-10T04:26:23.881443Z"
    },
    "papermill": {
     "duration": 0.98527,
     "end_time": "2021-09-10T04:30:29.075968",
     "exception": false,
     "start_time": "2021-09-10T04:30:28.090698",
     "status": "completed"
    },
    "tags": []
   },
   "outputs": [],
   "source": [
    "from sklearn.preprocessing import OneHotEncoder"
   ]
  },
  {
   "cell_type": "code",
   "execution_count": 13,
   "id": "1ae75f54",
   "metadata": {
    "execution": {
     "iopub.execute_input": "2021-09-10T04:30:29.114568Z",
     "iopub.status.busy": "2021-09-10T04:30:29.113852Z",
     "iopub.status.idle": "2021-09-10T04:30:29.116987Z",
     "shell.execute_reply": "2021-09-10T04:30:29.117400Z",
     "shell.execute_reply.started": "2021-09-10T04:26:24.068578Z"
    },
    "papermill": {
     "duration": 0.024945,
     "end_time": "2021-09-10T04:30:29.117571",
     "exception": false,
     "start_time": "2021-09-10T04:30:29.092626",
     "status": "completed"
    },
    "tags": []
   },
   "outputs": [],
   "source": [
    "df_cat=[]\n",
    "\n",
    "for i in data.columns:\n",
    "    if data[i].dtype=='object':\n",
    "        df_cat.append(i)\n",
    "            "
   ]
  },
  {
   "cell_type": "code",
   "execution_count": 14,
   "id": "609ace00",
   "metadata": {
    "execution": {
     "iopub.execute_input": "2021-09-10T04:30:29.157086Z",
     "iopub.status.busy": "2021-09-10T04:30:29.156413Z",
     "iopub.status.idle": "2021-09-10T04:30:29.160936Z",
     "shell.execute_reply": "2021-09-10T04:30:29.160429Z",
     "shell.execute_reply.started": "2021-09-10T04:26:24.252530Z"
    },
    "papermill": {
     "duration": 0.025931,
     "end_time": "2021-09-10T04:30:29.161053",
     "exception": false,
     "start_time": "2021-09-10T04:30:29.135122",
     "status": "completed"
    },
    "tags": []
   },
   "outputs": [
    {
     "data": {
      "text/plain": [
       "['Platform', 'Genre', 'Rating']"
      ]
     },
     "execution_count": 14,
     "metadata": {},
     "output_type": "execute_result"
    }
   ],
   "source": [
    "df_cat"
   ]
  },
  {
   "cell_type": "code",
   "execution_count": 15,
   "id": "4b603958",
   "metadata": {
    "execution": {
     "iopub.execute_input": "2021-09-10T04:30:29.210633Z",
     "iopub.status.busy": "2021-09-10T04:30:29.206821Z",
     "iopub.status.idle": "2021-09-10T04:30:29.213253Z",
     "shell.execute_reply": "2021-09-10T04:30:29.212715Z",
     "shell.execute_reply.started": "2021-09-10T04:26:24.455287Z"
    },
    "papermill": {
     "duration": 0.035125,
     "end_time": "2021-09-10T04:30:29.213384",
     "exception": false,
     "start_time": "2021-09-10T04:30:29.178259",
     "status": "completed"
    },
    "tags": []
   },
   "outputs": [],
   "source": [
    "data['Genre'].value_counts()\n",
    "data.Genre = data.Genre .fillna('Action')\n",
    "\n",
    "test['Genre'].value_counts()\n",
    "test.Genre = test.Genre .fillna('Action')\n"
   ]
  },
  {
   "cell_type": "code",
   "execution_count": 16,
   "id": "8a2d4e91",
   "metadata": {
    "execution": {
     "iopub.execute_input": "2021-09-10T04:30:29.270162Z",
     "iopub.status.busy": "2021-09-10T04:30:29.269525Z",
     "iopub.status.idle": "2021-09-10T04:30:29.273777Z",
     "shell.execute_reply": "2021-09-10T04:30:29.273231Z",
     "shell.execute_reply.started": "2021-09-10T04:26:24.662741Z"
    },
    "papermill": {
     "duration": 0.034931,
     "end_time": "2021-09-10T04:30:29.273912",
     "exception": false,
     "start_time": "2021-09-10T04:30:29.238981",
     "status": "completed"
    },
    "tags": []
   },
   "outputs": [],
   "source": [
    "Platform=OneHotEncoder(handle_unknown='ignore')\n",
    "Genre=OneHotEncoder(handle_unknown='ignore')\n",
    "Rating=OneHotEncoder(handle_unknown='ignore')\n",
    "\n",
    "Encoders=[Platform, Genre, Rating]"
   ]
  },
  {
   "cell_type": "code",
   "execution_count": 17,
   "id": "2b8eb718",
   "metadata": {
    "execution": {
     "iopub.execute_input": "2021-09-10T04:30:29.314471Z",
     "iopub.status.busy": "2021-09-10T04:30:29.313697Z",
     "iopub.status.idle": "2021-09-10T04:30:29.334425Z",
     "shell.execute_reply": "2021-09-10T04:30:29.334818Z",
     "shell.execute_reply.started": "2021-09-10T04:26:24.864481Z"
    },
    "papermill": {
     "duration": 0.043611,
     "end_time": "2021-09-10T04:30:29.334966",
     "exception": false,
     "start_time": "2021-09-10T04:30:29.291355",
     "status": "completed"
    },
    "tags": []
   },
   "outputs": [],
   "source": [
    "data_transform=[]\n",
    "test_transform=[]\n",
    "for i in df_cat:\n",
    "    for j in Encoders:\n",
    "        data_transform.append(j.fit_transform(data[[i]]))\n",
    "        test_transform.append(j.transform(test[[i]]))   \n",
    "        \n",
    "        break"
   ]
  },
  {
   "cell_type": "code",
   "execution_count": 18,
   "id": "757df457",
   "metadata": {
    "execution": {
     "iopub.execute_input": "2021-09-10T04:30:29.372016Z",
     "iopub.status.busy": "2021-09-10T04:30:29.371528Z",
     "iopub.status.idle": "2021-09-10T04:30:29.380838Z",
     "shell.execute_reply": "2021-09-10T04:30:29.381197Z",
     "shell.execute_reply.started": "2021-09-10T04:26:25.105058Z"
    },
    "papermill": {
     "duration": 0.029358,
     "end_time": "2021-09-10T04:30:29.381343",
     "exception": false,
     "start_time": "2021-09-10T04:30:29.351985",
     "status": "completed"
    },
    "tags": []
   },
   "outputs": [],
   "source": [
    "for i in df_cat:\n",
    "    data=data.drop([i],axis=1)\n",
    "    test=test.drop([i],axis=1)"
   ]
  },
  {
   "cell_type": "code",
   "execution_count": 19,
   "id": "86fd832b",
   "metadata": {
    "execution": {
     "iopub.execute_input": "2021-09-10T04:30:29.417185Z",
     "iopub.status.busy": "2021-09-10T04:30:29.416722Z",
     "iopub.status.idle": "2021-09-10T04:30:29.424403Z",
     "shell.execute_reply": "2021-09-10T04:30:29.424824Z",
     "shell.execute_reply.started": "2021-09-10T04:26:25.573691Z"
    },
    "papermill": {
     "duration": 0.026821,
     "end_time": "2021-09-10T04:30:29.424976",
     "exception": false,
     "start_time": "2021-09-10T04:30:29.398155",
     "status": "completed"
    },
    "tags": []
   },
   "outputs": [],
   "source": [
    "Platform_enc=pd.DataFrame(data_transform[0].toarray())\n",
    "Genre_enc=pd.DataFrame(data_transform[1].toarray())\n",
    "Rating_enc=pd.DataFrame(data_transform[2].toarray())\n"
   ]
  },
  {
   "cell_type": "code",
   "execution_count": 20,
   "id": "eb0fab0f",
   "metadata": {
    "execution": {
     "iopub.execute_input": "2021-09-10T04:30:29.462567Z",
     "iopub.status.busy": "2021-09-10T04:30:29.462004Z",
     "iopub.status.idle": "2021-09-10T04:30:29.479944Z",
     "shell.execute_reply": "2021-09-10T04:30:29.479475Z",
     "shell.execute_reply.started": "2021-09-10T04:26:42.779642Z"
    },
    "papermill": {
     "duration": 0.037436,
     "end_time": "2021-09-10T04:30:29.480057",
     "exception": false,
     "start_time": "2021-09-10T04:30:29.442621",
     "status": "completed"
    },
    "tags": []
   },
   "outputs": [],
   "source": [
    "data = pd.concat([data, Platform_enc])"
   ]
  },
  {
   "cell_type": "code",
   "execution_count": null,
   "id": "87714ae2",
   "metadata": {
    "papermill": {
     "duration": 0.016903,
     "end_time": "2021-09-10T04:30:29.514167",
     "exception": false,
     "start_time": "2021-09-10T04:30:29.497264",
     "status": "completed"
    },
    "tags": []
   },
   "outputs": [],
   "source": []
  }
 ],
 "metadata": {
  "kernelspec": {
   "display_name": "Python 3",
   "language": "python",
   "name": "python3"
  },
  "language_info": {
   "codemirror_mode": {
    "name": "ipython",
    "version": 3
   },
   "file_extension": ".py",
   "mimetype": "text/x-python",
   "name": "python",
   "nbconvert_exporter": "python",
   "pygments_lexer": "ipython3",
   "version": "3.7.10"
  },
  "papermill": {
   "default_parameters": {},
   "duration": 12.905358,
   "end_time": "2021-09-10T04:30:31.093898",
   "environment_variables": {},
   "exception": null,
   "input_path": "__notebook__.ipynb",
   "output_path": "__notebook__.ipynb",
   "parameters": {},
   "start_time": "2021-09-10T04:30:18.188540",
   "version": "2.3.3"
  }
 },
 "nbformat": 4,
 "nbformat_minor": 5
}
