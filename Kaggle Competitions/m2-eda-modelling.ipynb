{
 "cells": [
  {
   "cell_type": "markdown",
   "id": "303b3761",
   "metadata": {
    "papermill": {
     "duration": 0.026126,
     "end_time": "2021-10-09T03:52:06.032204",
     "exception": false,
     "start_time": "2021-10-09T03:52:06.006078",
     "status": "completed"
    },
    "tags": []
   },
   "source": [
    "# Importing Libraries"
   ]
  },
  {
   "cell_type": "code",
   "execution_count": 1,
   "id": "6655bd21",
   "metadata": {
    "execution": {
     "iopub.execute_input": "2021-10-09T03:52:06.094335Z",
     "iopub.status.busy": "2021-10-09T03:52:06.093601Z",
     "iopub.status.idle": "2021-10-09T03:52:07.607046Z",
     "shell.execute_reply": "2021-10-09T03:52:07.605785Z",
     "shell.execute_reply.started": "2021-10-09T03:44:14.638593Z"
    },
    "papermill": {
     "duration": 1.549615,
     "end_time": "2021-10-09T03:52:07.607222",
     "exception": false,
     "start_time": "2021-10-09T03:52:06.057607",
     "status": "completed"
    },
    "tags": []
   },
   "outputs": [],
   "source": [
    "import warnings\n",
    "warnings.filterwarnings(\"ignore\")\n",
    "\n",
    "import matplotlib.pyplot as plt\n",
    "import seaborn as sns\n",
    "import numpy as np\n",
    "import pandas as pd\n",
    "\n",
    "from sklearn.model_selection import train_test_split\n",
    "from sklearn.metrics import*\n",
    "import matplotlib.pyplot as plt\n",
    "\n",
    "from sklearn.preprocessing import StandardScaler\n",
    "from sklearn.feature_selection import VarianceThreshold\n",
    "\n",
    "from sklearn.linear_model import*\n",
    "from sklearn.preprocessing import*\n",
    "from sklearn.ensemble import*\n",
    "from sklearn.neighbors import*\n",
    "\n",
    "from xgboost import XGBRegressor"
   ]
  },
  {
   "cell_type": "markdown",
   "id": "18b3333f",
   "metadata": {
    "papermill": {
     "duration": 0.022183,
     "end_time": "2021-10-09T03:52:07.653110",
     "exception": false,
     "start_time": "2021-10-09T03:52:07.630927",
     "status": "completed"
    },
    "tags": []
   },
   "source": [
    "# The Data"
   ]
  },
  {
   "cell_type": "code",
   "execution_count": 2,
   "id": "53308d86",
   "metadata": {
    "execution": {
     "iopub.execute_input": "2021-10-09T03:52:07.704430Z",
     "iopub.status.busy": "2021-10-09T03:52:07.703697Z",
     "iopub.status.idle": "2021-10-09T03:52:07.796636Z",
     "shell.execute_reply": "2021-10-09T03:52:07.796042Z",
     "shell.execute_reply.started": "2021-10-09T03:44:15.963012Z"
    },
    "papermill": {
     "duration": 0.120847,
     "end_time": "2021-10-09T03:52:07.796815",
     "exception": false,
     "start_time": "2021-10-09T03:52:07.675968",
     "status": "completed"
    },
    "tags": []
   },
   "outputs": [],
   "source": [
    "df = pd.read_csv(\"/kaggle/input/nmims-m2-batch-1/train.csv\")\n",
    "test = pd.read_csv(\"/kaggle/input/nmims-m2-batch-1/test.csv\")"
   ]
  },
  {
   "cell_type": "code",
   "execution_count": 3,
   "id": "c4041a0d",
   "metadata": {
    "execution": {
     "iopub.execute_input": "2021-10-09T03:52:07.853957Z",
     "iopub.status.busy": "2021-10-09T03:52:07.852821Z",
     "iopub.status.idle": "2021-10-09T03:52:07.881008Z",
     "shell.execute_reply": "2021-10-09T03:52:07.880250Z",
     "shell.execute_reply.started": "2021-10-09T03:44:16.529489Z"
    },
    "papermill": {
     "duration": 0.061104,
     "end_time": "2021-10-09T03:52:07.881198",
     "exception": false,
     "start_time": "2021-10-09T03:52:07.820094",
     "status": "completed"
    },
    "tags": []
   },
   "outputs": [
    {
     "name": "stdout",
     "output_type": "stream",
     "text": [
      "<class 'pandas.core.frame.DataFrame'>\n",
      "RangeIndex: 12774 entries, 0 to 12773\n",
      "Data columns (total 15 columns):\n",
      " #   Column        Non-Null Count  Dtype  \n",
      "---  ------        --------------  -----  \n",
      " 0   id            12774 non-null  int64  \n",
      " 1   Unnamed: 0.1  12774 non-null  int64  \n",
      " 2   Date          12774 non-null  object \n",
      " 3   AveragePrice  12774 non-null  float64\n",
      " 4   Total Volume  12774 non-null  float64\n",
      " 5   4046          12774 non-null  float64\n",
      " 6   4225          12774 non-null  float64\n",
      " 7   4770          12774 non-null  float64\n",
      " 8   Total Bags    12774 non-null  float64\n",
      " 9   Small Bags    12774 non-null  float64\n",
      " 10  Large Bags    12774 non-null  float64\n",
      " 11  XLarge Bags   12774 non-null  float64\n",
      " 12  type          12774 non-null  object \n",
      " 13  year          12774 non-null  int64  \n",
      " 14  region        12774 non-null  object \n",
      "dtypes: float64(9), int64(3), object(3)\n",
      "memory usage: 1.5+ MB\n"
     ]
    }
   ],
   "source": [
    "df.info()"
   ]
  },
  {
   "cell_type": "code",
   "execution_count": 4,
   "id": "4463fed4",
   "metadata": {
    "execution": {
     "iopub.execute_input": "2021-10-09T03:52:07.932698Z",
     "iopub.status.busy": "2021-10-09T03:52:07.931990Z",
     "iopub.status.idle": "2021-10-09T03:52:07.944834Z",
     "shell.execute_reply": "2021-10-09T03:52:07.944286Z",
     "shell.execute_reply.started": "2021-10-09T03:44:17.003671Z"
    },
    "papermill": {
     "duration": 0.039124,
     "end_time": "2021-10-09T03:52:07.944986",
     "exception": false,
     "start_time": "2021-10-09T03:52:07.905862",
     "status": "completed"
    },
    "tags": []
   },
   "outputs": [
    {
     "name": "stdout",
     "output_type": "stream",
     "text": [
      "No missing values\n"
     ]
    }
   ],
   "source": [
    "if df.isnull().sum().any() == False:\n",
    "    print(\"No missing values\")\n",
    "else:\n",
    "    print(\"Missing values present\")"
   ]
  },
  {
   "cell_type": "code",
   "execution_count": 5,
   "id": "3d06c3d1",
   "metadata": {
    "execution": {
     "iopub.execute_input": "2021-10-09T03:52:07.998077Z",
     "iopub.status.busy": "2021-10-09T03:52:07.997368Z",
     "iopub.status.idle": "2021-10-09T03:52:08.017753Z",
     "shell.execute_reply": "2021-10-09T03:52:08.018284Z",
     "shell.execute_reply.started": "2021-10-09T03:44:17.597941Z"
    },
    "papermill": {
     "duration": 0.050505,
     "end_time": "2021-10-09T03:52:08.018463",
     "exception": false,
     "start_time": "2021-10-09T03:52:07.967958",
     "status": "completed"
    },
    "tags": []
   },
   "outputs": [
    {
     "name": "stdout",
     "output_type": "stream",
     "text": [
      "number of duplicate rows:  0\n"
     ]
    }
   ],
   "source": [
    "print(\"number of duplicate rows: \", df.duplicated().sum())"
   ]
  },
  {
   "cell_type": "code",
   "execution_count": 6,
   "id": "eb0a1673",
   "metadata": {
    "execution": {
     "iopub.execute_input": "2021-10-09T03:52:08.071766Z",
     "iopub.status.busy": "2021-10-09T03:52:08.071053Z",
     "iopub.status.idle": "2021-10-09T03:52:08.130491Z",
     "shell.execute_reply": "2021-10-09T03:52:08.131018Z",
     "shell.execute_reply.started": "2021-10-09T03:44:18.174367Z"
    },
    "papermill": {
     "duration": 0.088219,
     "end_time": "2021-10-09T03:52:08.131200",
     "exception": false,
     "start_time": "2021-10-09T03:52:08.042981",
     "status": "completed"
    },
    "tags": []
   },
   "outputs": [
    {
     "data": {
      "text/html": [
       "<div>\n",
       "<style scoped>\n",
       "    .dataframe tbody tr th:only-of-type {\n",
       "        vertical-align: middle;\n",
       "    }\n",
       "\n",
       "    .dataframe tbody tr th {\n",
       "        vertical-align: top;\n",
       "    }\n",
       "\n",
       "    .dataframe thead th {\n",
       "        text-align: right;\n",
       "    }\n",
       "</style>\n",
       "<table border=\"1\" class=\"dataframe\">\n",
       "  <thead>\n",
       "    <tr style=\"text-align: right;\">\n",
       "      <th></th>\n",
       "      <th>id</th>\n",
       "      <th>Unnamed: 0.1</th>\n",
       "      <th>AveragePrice</th>\n",
       "      <th>Total Volume</th>\n",
       "      <th>4046</th>\n",
       "      <th>4225</th>\n",
       "      <th>4770</th>\n",
       "      <th>Total Bags</th>\n",
       "      <th>Small Bags</th>\n",
       "      <th>Large Bags</th>\n",
       "      <th>XLarge Bags</th>\n",
       "      <th>year</th>\n",
       "    </tr>\n",
       "  </thead>\n",
       "  <tbody>\n",
       "    <tr>\n",
       "      <th>count</th>\n",
       "      <td>12774.000000</td>\n",
       "      <td>12774.000000</td>\n",
       "      <td>12774.000000</td>\n",
       "      <td>1.277400e+04</td>\n",
       "      <td>1.277400e+04</td>\n",
       "      <td>1.277400e+04</td>\n",
       "      <td>1.277400e+04</td>\n",
       "      <td>1.277400e+04</td>\n",
       "      <td>1.277400e+04</td>\n",
       "      <td>1.277400e+04</td>\n",
       "      <td>12774.000000</td>\n",
       "      <td>12774.000000</td>\n",
       "    </tr>\n",
       "    <tr>\n",
       "      <th>mean</th>\n",
       "      <td>9146.982543</td>\n",
       "      <td>24.163300</td>\n",
       "      <td>1.412157</td>\n",
       "      <td>8.647452e+05</td>\n",
       "      <td>2.979368e+05</td>\n",
       "      <td>2.983547e+05</td>\n",
       "      <td>2.304099e+04</td>\n",
       "      <td>2.454102e+05</td>\n",
       "      <td>1.864018e+05</td>\n",
       "      <td>5.575951e+04</td>\n",
       "      <td>3248.891310</td>\n",
       "      <td>2016.157351</td>\n",
       "    </tr>\n",
       "    <tr>\n",
       "      <th>std</th>\n",
       "      <td>5271.942481</td>\n",
       "      <td>15.455538</td>\n",
       "      <td>0.405169</td>\n",
       "      <td>3.483427e+06</td>\n",
       "      <td>1.266719e+06</td>\n",
       "      <td>1.214340e+06</td>\n",
       "      <td>1.078313e+05</td>\n",
       "      <td>1.002990e+06</td>\n",
       "      <td>7.595630e+05</td>\n",
       "      <td>2.469235e+05</td>\n",
       "      <td>18592.733408</td>\n",
       "      <td>0.941810</td>\n",
       "    </tr>\n",
       "    <tr>\n",
       "      <th>min</th>\n",
       "      <td>0.000000</td>\n",
       "      <td>0.000000</td>\n",
       "      <td>0.440000</td>\n",
       "      <td>8.456000e+01</td>\n",
       "      <td>0.000000e+00</td>\n",
       "      <td>0.000000e+00</td>\n",
       "      <td>0.000000e+00</td>\n",
       "      <td>0.000000e+00</td>\n",
       "      <td>0.000000e+00</td>\n",
       "      <td>0.000000e+00</td>\n",
       "      <td>0.000000</td>\n",
       "      <td>2015.000000</td>\n",
       "    </tr>\n",
       "    <tr>\n",
       "      <th>25%</th>\n",
       "      <td>4575.250000</td>\n",
       "      <td>10.000000</td>\n",
       "      <td>1.100000</td>\n",
       "      <td>1.049451e+04</td>\n",
       "      <td>8.112575e+02</td>\n",
       "      <td>2.919310e+03</td>\n",
       "      <td>0.000000e+00</td>\n",
       "      <td>4.867440e+03</td>\n",
       "      <td>2.682582e+03</td>\n",
       "      <td>1.239900e+02</td>\n",
       "      <td>0.000000</td>\n",
       "      <td>2015.000000</td>\n",
       "    </tr>\n",
       "    <tr>\n",
       "      <th>50%</th>\n",
       "      <td>9192.500000</td>\n",
       "      <td>24.000000</td>\n",
       "      <td>1.380000</td>\n",
       "      <td>1.031261e+05</td>\n",
       "      <td>8.298080e+03</td>\n",
       "      <td>2.839996e+04</td>\n",
       "      <td>1.755050e+02</td>\n",
       "      <td>3.873202e+04</td>\n",
       "      <td>2.526108e+04</td>\n",
       "      <td>2.592220e+03</td>\n",
       "      <td>0.000000</td>\n",
       "      <td>2016.000000</td>\n",
       "    </tr>\n",
       "    <tr>\n",
       "      <th>75%</th>\n",
       "      <td>13724.750000</td>\n",
       "      <td>38.000000</td>\n",
       "      <td>1.670000</td>\n",
       "      <td>4.348257e+05</td>\n",
       "      <td>1.127869e+05</td>\n",
       "      <td>1.468455e+05</td>\n",
       "      <td>6.277283e+03</td>\n",
       "      <td>1.115474e+05</td>\n",
       "      <td>8.440231e+04</td>\n",
       "      <td>2.194152e+04</td>\n",
       "      <td>139.855000</td>\n",
       "      <td>2017.000000</td>\n",
       "    </tr>\n",
       "    <tr>\n",
       "      <th>max</th>\n",
       "      <td>18245.000000</td>\n",
       "      <td>52.000000</td>\n",
       "      <td>3.250000</td>\n",
       "      <td>6.250565e+07</td>\n",
       "      <td>2.162018e+07</td>\n",
       "      <td>2.044550e+07</td>\n",
       "      <td>1.993645e+06</td>\n",
       "      <td>1.937313e+07</td>\n",
       "      <td>1.338459e+07</td>\n",
       "      <td>5.719097e+06</td>\n",
       "      <td>551693.650000</td>\n",
       "      <td>2018.000000</td>\n",
       "    </tr>\n",
       "  </tbody>\n",
       "</table>\n",
       "</div>"
      ],
      "text/plain": [
       "                 id  Unnamed: 0.1  AveragePrice  Total Volume          4046  \\\n",
       "count  12774.000000  12774.000000  12774.000000  1.277400e+04  1.277400e+04   \n",
       "mean    9146.982543     24.163300      1.412157  8.647452e+05  2.979368e+05   \n",
       "std     5271.942481     15.455538      0.405169  3.483427e+06  1.266719e+06   \n",
       "min        0.000000      0.000000      0.440000  8.456000e+01  0.000000e+00   \n",
       "25%     4575.250000     10.000000      1.100000  1.049451e+04  8.112575e+02   \n",
       "50%     9192.500000     24.000000      1.380000  1.031261e+05  8.298080e+03   \n",
       "75%    13724.750000     38.000000      1.670000  4.348257e+05  1.127869e+05   \n",
       "max    18245.000000     52.000000      3.250000  6.250565e+07  2.162018e+07   \n",
       "\n",
       "               4225          4770    Total Bags    Small Bags    Large Bags  \\\n",
       "count  1.277400e+04  1.277400e+04  1.277400e+04  1.277400e+04  1.277400e+04   \n",
       "mean   2.983547e+05  2.304099e+04  2.454102e+05  1.864018e+05  5.575951e+04   \n",
       "std    1.214340e+06  1.078313e+05  1.002990e+06  7.595630e+05  2.469235e+05   \n",
       "min    0.000000e+00  0.000000e+00  0.000000e+00  0.000000e+00  0.000000e+00   \n",
       "25%    2.919310e+03  0.000000e+00  4.867440e+03  2.682582e+03  1.239900e+02   \n",
       "50%    2.839996e+04  1.755050e+02  3.873202e+04  2.526108e+04  2.592220e+03   \n",
       "75%    1.468455e+05  6.277283e+03  1.115474e+05  8.440231e+04  2.194152e+04   \n",
       "max    2.044550e+07  1.993645e+06  1.937313e+07  1.338459e+07  5.719097e+06   \n",
       "\n",
       "         XLarge Bags          year  \n",
       "count   12774.000000  12774.000000  \n",
       "mean     3248.891310   2016.157351  \n",
       "std     18592.733408      0.941810  \n",
       "min         0.000000   2015.000000  \n",
       "25%         0.000000   2015.000000  \n",
       "50%         0.000000   2016.000000  \n",
       "75%       139.855000   2017.000000  \n",
       "max    551693.650000   2018.000000  "
      ]
     },
     "execution_count": 6,
     "metadata": {},
     "output_type": "execute_result"
    }
   ],
   "source": [
    "df.describe()"
   ]
  },
  {
   "cell_type": "markdown",
   "id": "5c4f0fb3",
   "metadata": {
    "papermill": {
     "duration": 0.024849,
     "end_time": "2021-10-09T03:52:08.180372",
     "exception": false,
     "start_time": "2021-10-09T03:52:08.155523",
     "status": "completed"
    },
    "tags": []
   },
   "source": [
    "No missing values, no duplicates and no outliers\n",
    "\n",
    "(Thank god) \n"
   ]
  },
  {
   "cell_type": "markdown",
   "id": "2ff1feb6",
   "metadata": {
    "papermill": {
     "duration": 0.024182,
     "end_time": "2021-10-09T03:52:08.228790",
     "exception": false,
     "start_time": "2021-10-09T03:52:08.204608",
     "status": "completed"
    },
    "tags": []
   },
   "source": [
    "# Exploratory Data Analysis"
   ]
  },
  {
   "cell_type": "code",
   "execution_count": 7,
   "id": "5c53b945",
   "metadata": {
    "execution": {
     "iopub.execute_input": "2021-10-09T03:52:08.297759Z",
     "iopub.status.busy": "2021-10-09T03:52:08.297073Z",
     "iopub.status.idle": "2021-10-09T03:52:08.635574Z",
     "shell.execute_reply": "2021-10-09T03:52:08.636183Z",
     "shell.execute_reply.started": "2021-10-09T03:44:19.938910Z"
    },
    "papermill": {
     "duration": 0.383252,
     "end_time": "2021-10-09T03:52:08.636366",
     "exception": false,
     "start_time": "2021-10-09T03:52:08.253114",
     "status": "completed"
    },
    "tags": []
   },
   "outputs": [
    {
     "data": {
      "image/png": "[encoded data removed]",
      "text/plain": [
       "<Figure size 432x288 with 1 Axes>"
      ]
     },
     "metadata": {
      "needs_background": "light"
     },
     "output_type": "display_data"
    }
   ],
   "source": [
    "plt.figure()\n",
    "plt.title(\"Avocado Average Price by Type\")\n",
    "sns.barplot(x=\"type\",y=\"AveragePrice\",data= df)\n",
    "plt.show()"
   ]
  },
  {
   "cell_type": "code",
   "execution_count": 8,
   "id": "bfe39bce",
   "metadata": {
    "execution": {
     "iopub.execute_input": "2021-10-09T03:52:08.690798Z",
     "iopub.status.busy": "2021-10-09T03:52:08.690067Z",
     "iopub.status.idle": "2021-10-09T03:52:09.317340Z",
     "shell.execute_reply": "2021-10-09T03:52:09.317855Z",
     "shell.execute_reply.started": "2021-10-09T03:44:20.680585Z"
    },
    "papermill": {
     "duration": 0.656248,
     "end_time": "2021-10-09T03:52:09.318027",
     "exception": false,
     "start_time": "2021-10-09T03:52:08.661779",
     "status": "completed"
    },
    "tags": []
   },
   "outputs": [
    {
     "data": {
      "image/png": "[encoded data removed]",
      "text/plain": [
       "<Figure size 1296x288 with 1 Axes>"
      ]
     },
     "metadata": {
      "needs_background": "light"
     },
     "output_type": "display_data"
    }
   ],
   "source": [
    "df_conventional = df[df['type'] == 'conventional']\n",
    "df_organic = df[df['type'] == 'organic']\n",
    "f, ax = plt.subplots(nrows=1, ncols=1, figsize=(18, 4))\n",
    "sns.distplot(df_conventional['AveragePrice'])\n",
    "sns.distplot(df_organic['AveragePrice'])\n",
    "plt.show()"
   ]
  },
  {
   "cell_type": "markdown",
   "id": "4b6f4c0a",
   "metadata": {
    "papermill": {
     "duration": 0.02693,
     "end_time": "2021-10-09T03:52:09.372611",
     "exception": false,
     "start_time": "2021-10-09T03:52:09.345681",
     "status": "completed"
    },
    "tags": []
   },
   "source": [
    "# Scaling and Preprocessing"
   ]
  },
  {
   "cell_type": "code",
   "execution_count": 9,
   "id": "02cab36b",
   "metadata": {
    "execution": {
     "iopub.execute_input": "2021-10-09T03:52:09.435297Z",
     "iopub.status.busy": "2021-10-09T03:52:09.433906Z",
     "iopub.status.idle": "2021-10-09T03:52:09.440024Z",
     "shell.execute_reply": "2021-10-09T03:52:09.440652Z",
     "shell.execute_reply.started": "2021-10-09T03:44:22.893553Z"
    },
    "papermill": {
     "duration": 0.041745,
     "end_time": "2021-10-09T03:52:09.440848",
     "exception": false,
     "start_time": "2021-10-09T03:52:09.399103",
     "status": "completed"
    },
    "tags": []
   },
   "outputs": [],
   "source": [
    "X=df.drop('AveragePrice',1)\n",
    "y=df['AveragePrice']\n",
    "X_train,X_test,y_train,y_test=train_test_split(X,y,test_size=0.20,random_state=42)"
   ]
  },
  {
   "cell_type": "code",
   "execution_count": 10,
   "id": "8fc434f2",
   "metadata": {
    "execution": {
     "iopub.execute_input": "2021-10-09T03:52:09.499567Z",
     "iopub.status.busy": "2021-10-09T03:52:09.498922Z",
     "iopub.status.idle": "2021-10-09T03:52:09.529501Z",
     "shell.execute_reply": "2021-10-09T03:52:09.528958Z",
     "shell.execute_reply.started": "2021-10-09T03:44:23.618360Z"
    },
    "papermill": {
     "duration": 0.06138,
     "end_time": "2021-10-09T03:52:09.529661",
     "exception": false,
     "start_time": "2021-10-09T03:52:09.468281",
     "status": "completed"
    },
    "tags": []
   },
   "outputs": [],
   "source": [
    "scaler=LabelEncoder()\n",
    "for col in X_train.columns:\n",
    "    if df[col].dtype=='object':\n",
    "        X_train[col]=scaler.fit_transform(X_train[col])\n",
    "        X_test[col]=scaler.transform(X_test[col])\n",
    "        test[col]=scaler.transform(test[col])"
   ]
  },
  {
   "cell_type": "code",
   "execution_count": 11,
   "id": "e3d4bccb",
   "metadata": {
    "execution": {
     "iopub.execute_input": "2021-10-09T03:52:09.591978Z",
     "iopub.status.busy": "2021-10-09T03:52:09.591294Z",
     "iopub.status.idle": "2021-10-09T03:52:09.606761Z",
     "shell.execute_reply": "2021-10-09T03:52:09.606212Z",
     "shell.execute_reply.started": "2021-10-09T03:44:29.097746Z"
    },
    "papermill": {
     "duration": 0.048883,
     "end_time": "2021-10-09T03:52:09.606918",
     "exception": false,
     "start_time": "2021-10-09T03:52:09.558035",
     "status": "completed"
    },
    "tags": []
   },
   "outputs": [],
   "source": [
    "scaler=VarianceThreshold(0.1)\n",
    "X_train=scaler.fit_transform(X_train)\n",
    "X_test=scaler.transform(X_test)\n",
    "test = scaler.transform(test)"
   ]
  },
  {
   "cell_type": "code",
   "execution_count": 12,
   "id": "7716d020",
   "metadata": {
    "execution": {
     "iopub.execute_input": "2021-10-09T03:52:09.665453Z",
     "iopub.status.busy": "2021-10-09T03:52:09.664515Z",
     "iopub.status.idle": "2021-10-09T03:52:09.671821Z",
     "shell.execute_reply": "2021-10-09T03:52:09.671068Z",
     "shell.execute_reply.started": "2021-10-09T03:44:30.166717Z"
    },
    "papermill": {
     "duration": 0.038982,
     "end_time": "2021-10-09T03:52:09.671976",
     "exception": false,
     "start_time": "2021-10-09T03:52:09.632994",
     "status": "completed"
    },
    "tags": []
   },
   "outputs": [],
   "source": [
    "scaler=StandardScaler()\n",
    "X_train=scaler.fit_transform(X_train)\n",
    "X_test=scaler.transform(X_test)\n",
    "test = scaler.transform(test)"
   ]
  },
  {
   "cell_type": "markdown",
   "id": "a384fa89",
   "metadata": {
    "papermill": {
     "duration": 0.025591,
     "end_time": "2021-10-09T03:52:09.723818",
     "exception": false,
     "start_time": "2021-10-09T03:52:09.698227",
     "status": "completed"
    },
    "tags": []
   },
   "source": [
    "# Training"
   ]
  },
  {
   "cell_type": "code",
   "execution_count": 13,
   "id": "0b7115cc",
   "metadata": {
    "execution": {
     "iopub.execute_input": "2021-10-09T03:52:09.785584Z",
     "iopub.status.busy": "2021-10-09T03:52:09.784906Z",
     "iopub.status.idle": "2021-10-09T03:52:13.916676Z",
     "shell.execute_reply": "2021-10-09T03:52:13.916146Z",
     "shell.execute_reply.started": "2021-10-09T03:44:31.293172Z"
    },
    "papermill": {
     "duration": 4.166072,
     "end_time": "2021-10-09T03:52:13.916836",
     "exception": false,
     "start_time": "2021-10-09T03:52:09.750764",
     "status": "completed"
    },
    "tags": []
   },
   "outputs": [
    {
     "name": "stdout",
     "output_type": "stream",
     "text": [
      "train data accuracy : 1.0\n",
      "test data accuracy : 0.9031688624256102\n",
      "loss of train data : 4.26892852745327e-30\n",
      "loss of test data : 0.016378202939334636\n"
     ]
    }
   ],
   "source": [
    "from sklearn.ensemble import ExtraTreesRegressor\n",
    "etr = ExtraTreesRegressor(random_state=42)\n",
    "etr.fit(X_train,y_train)\n",
    "\n",
    "y_tr1_etr=etr.predict(X_train)\n",
    "y_pr_etr=etr.predict(X_test)\n",
    "\n",
    "print('train data accuracy :',etr.score(X_train,y_train))\n",
    "print('test data accuracy :',etr.score(X_test,y_test))\n",
    "print('loss of train data :',mean_squared_error(y_train,y_tr1_etr))\n",
    "print('loss of test data :',mean_squared_error(y_test,y_pr_etr))"
   ]
  },
  {
   "cell_type": "code",
   "execution_count": 14,
   "id": "12d53bf4",
   "metadata": {
    "execution": {
     "iopub.execute_input": "2021-10-09T03:52:13.995996Z",
     "iopub.status.busy": "2021-10-09T03:52:13.990977Z",
     "iopub.status.idle": "2021-10-09T03:52:14.208737Z",
     "shell.execute_reply": "2021-10-09T03:52:14.209212Z",
     "shell.execute_reply.started": "2021-10-09T03:44:35.476827Z"
    },
    "papermill": {
     "duration": 0.266192,
     "end_time": "2021-10-09T03:52:14.209388",
     "exception": false,
     "start_time": "2021-10-09T03:52:13.943196",
     "status": "completed"
    },
    "tags": []
   },
   "outputs": [
    {
     "data": {
      "text/plain": [
       "<matplotlib.collections.PathCollection at 0x7fd24818ecd0>"
      ]
     },
     "execution_count": 14,
     "metadata": {},
     "output_type": "execute_result"
    },
    {
     "data": {
      "image/png": "[encoded data removed]",
      "text/plain": [
       "<Figure size 432x288 with 1 Axes>"
      ]
     },
     "metadata": {
      "needs_background": "light"
     },
     "output_type": "display_data"
    }
   ],
   "source": [
    "plt.scatter(x=y_test,y=y_pr_etr)"
   ]
  },
  {
   "cell_type": "code",
   "execution_count": 15,
   "id": "fe7865f5",
   "metadata": {
    "execution": {
     "iopub.execute_input": "2021-10-09T03:52:14.267743Z",
     "iopub.status.busy": "2021-10-09T03:52:14.267109Z",
     "iopub.status.idle": "2021-10-09T03:52:18.245311Z",
     "shell.execute_reply": "2021-10-09T03:52:18.246006Z",
     "shell.execute_reply.started": "2021-10-09T03:44:35.714204Z"
    },
    "papermill": {
     "duration": 4.009473,
     "end_time": "2021-10-09T03:52:18.246216",
     "exception": false,
     "start_time": "2021-10-09T03:52:14.236743",
     "status": "completed"
    },
    "tags": []
   },
   "outputs": [
    {
     "name": "stdout",
     "output_type": "stream",
     "text": [
      "train data accuracy : 0.9954492624281992\n",
      "test data accuracy : 0.9149839926305433\n",
      "loss of train data : 0.0007412359472017085\n",
      "loss of test data : 0.014379769324915987\n"
     ]
    }
   ],
   "source": [
    "# The hyperparameters were found using GridSerchCV, since the run time was too long I didnt include it here\n",
    "xgb = XGBRegressor(base_score=0.5, booster='gbtree', colsample_bylevel=1,\n",
    "             colsample_bynode=1, colsample_bytree=1, gamma=0, gpu_id=-1,\n",
    "             importance_type='gain', interaction_constraints='',\n",
    "             learning_rate=0.1, max_delta_step=0, max_depth=9,\n",
    "             min_child_weight=1, monotone_constraints='()',\n",
    "             n_estimators=180, n_jobs=4, num_parallel_tree=1, random_state=0,\n",
    "             reg_alpha=0, reg_lambda=1, scale_pos_weight=1, subsample=1,\n",
    "             tree_method='exact', validate_parameters=1, verbosity=None)\n",
    "xgb.fit(X_train, y_train)\n",
    "\n",
    "y_tr2=xgb.predict(X_train)\n",
    "y_pr2=xgb.predict(X_test)\n",
    "\n",
    "print('train data accuracy :',xgb.score(X_train,y_train))\n",
    "print('test data accuracy :',xgb.score(X_test,y_test))\n",
    "print('loss of train data :',mean_squared_error(y_train,y_tr2))\n",
    "print('loss of test data :',mean_squared_error(y_test,y_pr2))"
   ]
  },
  {
   "cell_type": "code",
   "execution_count": 16,
   "id": "d116f944",
   "metadata": {
    "execution": {
     "iopub.execute_input": "2021-10-09T03:52:18.334365Z",
     "iopub.status.busy": "2021-10-09T03:52:18.331492Z",
     "iopub.status.idle": "2021-10-09T03:52:18.548453Z",
     "shell.execute_reply": "2021-10-09T03:52:18.547934Z",
     "shell.execute_reply.started": "2021-10-09T03:44:39.708566Z"
    },
    "papermill": {
     "duration": 0.27316,
     "end_time": "2021-10-09T03:52:18.548596",
     "exception": false,
     "start_time": "2021-10-09T03:52:18.275436",
     "status": "completed"
    },
    "tags": []
   },
   "outputs": [
    {
     "data": {
      "text/plain": [
       "<matplotlib.collections.PathCollection at 0x7fd2468a1e90>"
      ]
     },
     "execution_count": 16,
     "metadata": {},
     "output_type": "execute_result"
    },
    {
     "data": {
      "image/png": "[encoded data removed]",
      "text/plain": [
       "<Figure size 432x288 with 1 Axes>"
      ]
     },
     "metadata": {
      "needs_background": "light"
     },
     "output_type": "display_data"
    }
   ],
   "source": [
    "plt.scatter(x=y_test,y=y_pr2)"
   ]
  },
  {
   "cell_type": "markdown",
   "id": "1a763600",
   "metadata": {
    "papermill": {
     "duration": 0.029069,
     "end_time": "2021-10-09T03:52:18.606612",
     "exception": false,
     "start_time": "2021-10-09T03:52:18.577543",
     "status": "completed"
    },
    "tags": []
   },
   "source": [
    "# Predictions"
   ]
  },
  {
   "cell_type": "code",
   "execution_count": 17,
   "id": "3a14f3df",
   "metadata": {
    "execution": {
     "iopub.execute_input": "2021-10-09T03:52:18.668112Z",
     "iopub.status.busy": "2021-10-09T03:52:18.667391Z",
     "iopub.status.idle": "2021-10-09T03:52:18.865124Z",
     "shell.execute_reply": "2021-10-09T03:52:18.865733Z",
     "shell.execute_reply.started": "2021-10-09T03:44:39.949138Z"
    },
    "papermill": {
     "duration": 0.230358,
     "end_time": "2021-10-09T03:52:18.865939",
     "exception": false,
     "start_time": "2021-10-09T03:52:18.635581",
     "status": "completed"
    },
    "tags": []
   },
   "outputs": [],
   "source": [
    "price_preds_etr = etr.predict(test)\n",
    "price_preds_xgb = xgb.predict(test)"
   ]
  },
  {
   "cell_type": "code",
   "execution_count": 18,
   "id": "ff5e4e5b",
   "metadata": {
    "execution": {
     "iopub.execute_input": "2021-10-09T03:52:18.931563Z",
     "iopub.status.busy": "2021-10-09T03:52:18.930878Z",
     "iopub.status.idle": "2021-10-09T03:52:18.970403Z",
     "shell.execute_reply": "2021-10-09T03:52:18.970917Z",
     "shell.execute_reply.started": "2021-10-09T03:44:40.155203Z"
    },
    "papermill": {
     "duration": 0.073836,
     "end_time": "2021-10-09T03:52:18.971109",
     "exception": false,
     "start_time": "2021-10-09T03:52:18.897273",
     "status": "completed"
    },
    "tags": []
   },
   "outputs": [],
   "source": [
    "sub_etr = pd.read_csv('../input/sample-sbm/sample_submission.csv')\n",
    "sub_etr['AveragePrice'] = price_preds_etr\n",
    "sub_etr.to_csv('submission_etr.csv', index=False)"
   ]
  },
  {
   "cell_type": "code",
   "execution_count": 19,
   "id": "fb26025f",
   "metadata": {
    "execution": {
     "iopub.execute_input": "2021-10-09T03:52:19.035785Z",
     "iopub.status.busy": "2021-10-09T03:52:19.034674Z",
     "iopub.status.idle": "2021-10-09T03:52:19.059928Z",
     "shell.execute_reply": "2021-10-09T03:52:19.060446Z",
     "shell.execute_reply.started": "2021-10-09T03:44:40.195121Z"
    },
    "papermill": {
     "duration": 0.060414,
     "end_time": "2021-10-09T03:52:19.060617",
     "exception": false,
     "start_time": "2021-10-09T03:52:19.000203",
     "status": "completed"
    },
    "tags": []
   },
   "outputs": [],
   "source": [
    "sub_xgb = pd.read_csv('../input/sample-sbm/sample_submission.csv')\n",
    "sub_xgb['AveragePrice'] = price_preds_xgb\n",
    "sub_xgb.to_csv('submission_xgb.csv', index=False)"
   ]
  },
  {
   "cell_type": "markdown",
   "id": "7bd639d2",
   "metadata": {
    "papermill": {
     "duration": 0.028878,
     "end_time": "2021-10-09T03:52:19.118535",
     "exception": false,
     "start_time": "2021-10-09T03:52:19.089657",
     "status": "completed"
    },
    "tags": []
   },
   "source": [
    "# Ensembling"
   ]
  },
  {
   "cell_type": "markdown",
   "id": "2903ce37",
   "metadata": {
    "papermill": {
     "duration": 0.029595,
     "end_time": "2021-10-09T03:52:19.176941",
     "exception": false,
     "start_time": "2021-10-09T03:52:19.147346",
     "status": "completed"
    },
    "tags": []
   },
   "source": [
    "On submitting both the files, we got 0.084 MSE on xgboost and 0.090 on ETR. So we ensembled the results with weightage given according to the results obtained on the submissions"
   ]
  },
  {
   "cell_type": "code",
   "execution_count": 20,
   "id": "ff005618",
   "metadata": {
    "execution": {
     "iopub.execute_input": "2021-10-09T03:52:19.240073Z",
     "iopub.status.busy": "2021-10-09T03:52:19.239045Z",
     "iopub.status.idle": "2021-10-09T03:52:19.243496Z",
     "shell.execute_reply": "2021-10-09T03:52:19.244091Z",
     "shell.execute_reply.started": "2021-10-09T03:44:40.225370Z"
    },
    "papermill": {
     "duration": 0.037145,
     "end_time": "2021-10-09T03:52:19.244278",
     "exception": false,
     "start_time": "2021-10-09T03:52:19.207133",
     "status": "completed"
    },
    "tags": []
   },
   "outputs": [],
   "source": [
    "weight_model_paths_pairs = [\n",
    "    (.575, '../input/best-subs/submission_xgb.csv'),\n",
    "    (.425, '../input/best-subs/submission_etr.csv')\n",
    "]"
   ]
  },
  {
   "cell_type": "code",
   "execution_count": 21,
   "id": "4fa0b25a",
   "metadata": {
    "execution": {
     "iopub.execute_input": "2021-10-09T03:52:19.308486Z",
     "iopub.status.busy": "2021-10-09T03:52:19.307460Z",
     "iopub.status.idle": "2021-10-09T03:52:19.345374Z",
     "shell.execute_reply": "2021-10-09T03:52:19.345946Z",
     "shell.execute_reply.started": "2021-10-09T03:44:40.233253Z"
    },
    "papermill": {
     "duration": 0.072147,
     "end_time": "2021-10-09T03:52:19.346128",
     "exception": false,
     "start_time": "2021-10-09T03:52:19.273981",
     "status": "completed"
    },
    "tags": []
   },
   "outputs": [],
   "source": [
    "targets = ['AveragePrice']\n",
    "\n",
    "submissions = []\n",
    "for weight, path in weight_model_paths_pairs:\n",
    "    df = pd.read_csv(path)\n",
    "    df[targets] = df[targets] * weight\n",
    "    submissions.append(df)\n",
    "\n",
    "ensembled_output = pd.concat(submissions).groupby(['id']).sum().reset_index()"
   ]
  },
  {
   "cell_type": "code",
   "execution_count": 22,
   "id": "cad309e0",
   "metadata": {
    "execution": {
     "iopub.execute_input": "2021-10-09T03:52:19.410443Z",
     "iopub.status.busy": "2021-10-09T03:52:19.409786Z",
     "iopub.status.idle": "2021-10-09T03:52:19.433646Z",
     "shell.execute_reply": "2021-10-09T03:52:19.432992Z",
     "shell.execute_reply.started": "2021-10-09T03:44:40.273700Z"
    },
    "papermill": {
     "duration": 0.057809,
     "end_time": "2021-10-09T03:52:19.433831",
     "exception": false,
     "start_time": "2021-10-09T03:52:19.376022",
     "status": "completed"
    },
    "tags": []
   },
   "outputs": [],
   "source": [
    "ensembled_output.to_csv('submission_ensemble_575_425.csv', index=False)"
   ]
  }
 ],
 "metadata": {
  "kernelspec": {
   "display_name": "Python 3",
   "language": "python",
   "name": "python3"
  },
  "language_info": {
   "codemirror_mode": {
    "name": "ipython",
    "version": 3
   },
   "file_extension": ".py",
   "mimetype": "text/x-python",
   "name": "python",
   "nbconvert_exporter": "python",
   "pygments_lexer": "ipython3",
   "version": "3.7.10"
  },
  "papermill": {
   "default_parameters": {},
   "duration": 22.902296,
   "end_time": "2021-10-09T03:52:20.172480",
   "environment_variables": {},
   "exception": null,
   "input_path": "__notebook__.ipynb",
   "output_path": "__notebook__.ipynb",
   "parameters": {},
   "start_time": "2021-10-09T03:51:57.270184",
   "version": "2.3.3"
  }
 },
 "nbformat": 4,
 "nbformat_minor": 5
}
