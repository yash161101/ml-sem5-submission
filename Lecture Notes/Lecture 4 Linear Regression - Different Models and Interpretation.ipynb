{
 "cells": [
  {
   "cell_type": "markdown",
   "id": "11a868f5",
   "metadata": {},
   "source": [
    "## Regression:\n",
    " * Searches for relationships among variables\n",
    " * Find the function that maps independent variables (inputs/features) to dependent variables (output/responses)\n",
    " * Dependent variable is usually continuous and unbounded"
   ]
  },
  {
   "cell_type": "markdown",
   "id": "2f247c31",
   "metadata": {},
   "source": [
    "# Linear Regression\n",
    "\n",
    "𝑦 = $\\theta$₀𝑥₀ + $\\theta$₁𝑥₁ + ⋯ + $\\theta$ᵣ𝑥ᵣ + 𝜀 ...(𝑥₀ = 1)\n",
    "\n",
    "y - output\n",
    "\n",
    "$\\theta$₀....$\\theta$ᵣ - parameters\n",
    "\n",
    "𝑥₀....𝑥ᵣ - features/inputs\n",
    "\n",
    "𝜀- error"
   ]
  },
  {
   "cell_type": "markdown",
   "id": "2bb6d7ab",
   "metadata": {},
   "source": [
    "## Regression performance\n",
    "\n",
    "* coefficient of determination, denoted as 𝑅², tells you which amount of variation in 𝑦 can be explained by the dependence on 𝐱 using the particular regression model"
   ]
  },
  {
   "cell_type": "markdown",
   "id": "8a130e93",
   "metadata": {},
   "source": [
    "## Types of regressions\n",
    "\n",
    "* Linear regression (univariate)\n",
    "* Multiple variable Linear regression (multivariate)\n",
    "* Polynomial Linear Regression (introduce powers and nonlinear terms e.g 𝑥₁², 𝑥₁𝑥₂, f(𝑥₁,𝑥₂) = $\\theta$₀ + $\\theta$₁𝑥₁² + $\\theta$₂𝑥₂𝑥₁) \n",
    "    * Here we solve the polynomial term as a linear problem where 𝑥₁² is a distinct feature seperate from 𝑥₁"
   ]
  },
  {
   "cell_type": "markdown",
   "id": "66103401",
   "metadata": {},
   "source": [
    "## Implementation in Python"
   ]
  },
  {
   "cell_type": "code",
   "execution_count": 1,
   "id": "dc59ad08",
   "metadata": {},
   "outputs": [],
   "source": [
    "import numpy as np\n",
    "from sklearn.linear_model import LinearRegression"
   ]
  },
  {
   "cell_type": "markdown",
   "id": "8a3c2d02",
   "metadata": {},
   "source": [
    "### Univariate"
   ]
  },
  {
   "cell_type": "code",
   "execution_count": 27,
   "id": "174e38f4",
   "metadata": {},
   "outputs": [],
   "source": [
    "x = np.array([5, 15, 25, 45, 37, 67, 55]).reshape((-1,1))\n",
    "y = np.array([110, 220, 310, 560, 412, 732, 640])"
   ]
  },
  {
   "cell_type": "code",
   "execution_count": 28,
   "id": "dd44e22e",
   "metadata": {},
   "outputs": [
    {
     "data": {
      "text/plain": [
       "((7, 1), (7,))"
      ]
     },
     "execution_count": 28,
     "metadata": {},
     "output_type": "execute_result"
    }
   ],
   "source": [
    "x.shape, y.shape"
   ]
  },
  {
   "cell_type": "code",
   "execution_count": 29,
   "id": "44551e02",
   "metadata": {},
   "outputs": [],
   "source": [
    "model = LinearRegression().fit(x,y)"
   ]
  },
  {
   "cell_type": "code",
   "execution_count": 30,
   "id": "391b2138",
   "metadata": {},
   "outputs": [
    {
     "name": "stdout",
     "output_type": "stream",
     "text": [
      "R square  (coefficient of determination): 0.9911353350742254\n"
     ]
    }
   ],
   "source": [
    "r_sq = model.score(x,y)\n",
    "print(f'R square  (coefficient of determination): {r_sq}')"
   ]
  },
  {
   "cell_type": "code",
   "execution_count": 31,
   "id": "ee5224e8",
   "metadata": {},
   "outputs": [
    {
     "name": "stdout",
     "output_type": "stream",
     "text": [
      "intercept (𝜃0): 59.802734374999886\n",
      "slope (𝜃1): [10.30273438]\n"
     ]
    }
   ],
   "source": [
    "print(f'intercept (𝜃0): {model.intercept_}')\n",
    "print(f'slope (𝜃1): {model.coef_}')"
   ]
  },
  {
   "cell_type": "code",
   "execution_count": 32,
   "id": "19718535",
   "metadata": {},
   "outputs": [
    {
     "data": {
      "text/plain": [
       "array([111.31640625, 214.34375   , 317.37109375, 523.42578125,\n",
       "       441.00390625, 750.0859375 , 626.453125  ])"
      ]
     },
     "execution_count": 32,
     "metadata": {},
     "output_type": "execute_result"
    }
   ],
   "source": [
    "y_pred = model.predict(x)\n",
    "y_pred"
   ]
  },
  {
   "cell_type": "code",
   "execution_count": 33,
   "id": "7c854e45",
   "metadata": {},
   "outputs": [
    {
     "data": {
      "text/plain": [
       "array([[111.31640625],\n",
       "       [214.34375   ],\n",
       "       [317.37109375],\n",
       "       [523.42578125],\n",
       "       [441.00390625],\n",
       "       [750.0859375 ],\n",
       "       [626.453125  ]])"
      ]
     },
     "execution_count": 33,
     "metadata": {},
     "output_type": "execute_result"
    }
   ],
   "source": [
    "y_pred = model.intercept_ + model.coef_*x\n",
    "y_pred"
   ]
  },
  {
   "cell_type": "code",
   "execution_count": 34,
   "id": "e819bc75",
   "metadata": {},
   "outputs": [
    {
     "data": {
      "text/plain": [
       "array([ 59.80273437,  70.10546875,  80.40820312,  90.7109375 ,\n",
       "       101.01367187, 111.31640625, 121.61914062, 131.921875  ,\n",
       "       142.22460937, 152.52734375])"
      ]
     },
     "execution_count": 34,
     "metadata": {},
     "output_type": "execute_result"
    }
   ],
   "source": [
    "y_pred_new = model.predict(np.arange(10).reshape(-1,1))\n",
    "y_pred_new"
   ]
  },
  {
   "cell_type": "markdown",
   "id": "23f5efa6",
   "metadata": {},
   "source": [
    "### Multivariate Linear Regression"
   ]
  },
  {
   "cell_type": "code",
   "execution_count": 61,
   "id": "b4d82ff7",
   "metadata": {},
   "outputs": [],
   "source": [
    "x = np.array([[5,45,78], [15,37,38], [25,47,29], [45,34,89], [37,26,18], [67,17,49], [55,16,18]])\n",
    "y = np.array([110, 220, 310, 560, 412, 732, 640])"
   ]
  },
  {
   "cell_type": "code",
   "execution_count": 62,
   "id": "bd7672b3",
   "metadata": {},
   "outputs": [
    {
     "name": "stdout",
     "output_type": "stream",
     "text": [
      "R square  (coefficient of determination): 0.993871363946136\n"
     ]
    }
   ],
   "source": [
    "model = LinearRegression().fit(x,y)\n",
    "\n",
    "r_sq = model.score(x,y)\n",
    "print(f'R square  (coefficient of determination): {r_sq}')"
   ]
  },
  {
   "cell_type": "code",
   "execution_count": 63,
   "id": "f3ea4635",
   "metadata": {},
   "outputs": [
    {
     "name": "stdout",
     "output_type": "stream",
     "text": [
      "intercept (𝜃0): 32.22988777391873\n",
      "coefficients (𝜃): [10.45292976  0.09564294  0.42124935]\n"
     ]
    }
   ],
   "source": [
    "print(f'intercept (𝜃0): {model.intercept_}')\n",
    "print(f'coefficients (𝜃): {model.coef_}')"
   ]
  },
  {
   "cell_type": "code",
   "execution_count": 64,
   "id": "35d81bc5",
   "metadata": {},
   "outputs": [
    {
     "data": {
      "text/plain": [
       "array([121.65591833, 208.57009829, 310.2645811 , 543.35477916,\n",
       "       429.05749357, 754.84332975, 616.2537998 ])"
      ]
     },
     "execution_count": 64,
     "metadata": {},
     "output_type": "execute_result"
    }
   ],
   "source": [
    "y_pred = model.predict(x)\n",
    "y_pred"
   ]
  },
  {
   "cell_type": "code",
   "execution_count": 45,
   "id": "bd370bd9",
   "metadata": {},
   "outputs": [
    {
     "data": {
      "text/plain": [
       "array([121.65591833, 208.57009829, 310.2645811 , 543.35477916,\n",
       "       429.05749357, 754.84332975, 616.2537998 ])"
      ]
     },
     "execution_count": 45,
     "metadata": {},
     "output_type": "execute_result"
    }
   ],
   "source": [
    "y_pred = model.intercept_ + np.sum(model.coef_*x,axis =1)\n",
    "y_pred"
   ]
  },
  {
   "cell_type": "markdown",
   "id": "3a5dfa81",
   "metadata": {},
   "source": [
    "### Polynomial Regression"
   ]
  },
  {
   "cell_type": "code",
   "execution_count": 46,
   "id": "9abb6f48",
   "metadata": {},
   "outputs": [],
   "source": [
    "from sklearn.preprocessing import PolynomialFeatures"
   ]
  },
  {
   "cell_type": "code",
   "execution_count": 47,
   "id": "9e8b8c5f",
   "metadata": {},
   "outputs": [],
   "source": [
    "x = np.array([5, 15, 25, 45, 37, 67, 55]).reshape((-1,1))\n",
    "y = np.array([110, 220, 310, 560, 412, 732, 640])"
   ]
  },
  {
   "cell_type": "markdown",
   "id": "f8906fda",
   "metadata": {},
   "source": [
    "#### include_bias = False in Polynomial feature transformer"
   ]
  },
  {
   "cell_type": "code",
   "execution_count": 58,
   "id": "2d951a04",
   "metadata": {},
   "outputs": [
    {
     "name": "stdout",
     "output_type": "stream",
     "text": [
      "[[   5.   25.]\n",
      " [  15.  225.]\n",
      " [  25.  625.]\n",
      " [  45. 2025.]\n",
      " [  37. 1369.]\n",
      " [  67. 4489.]\n",
      " [  55. 3025.]]\n",
      "R square  (coefficient of determination): 0.9914155330813881\n",
      "intercept (𝜃0): 51.645334294410304\n",
      "coefficients (𝜃): [ 1.09827006e+01 -9.52302405e-03]\n"
     ]
    }
   ],
   "source": [
    "transformer = PolynomialFeatures(degree=2, include_bias=False)\n",
    "transformer.fit(x)\n",
    "x_ = transformer.transform(x)\n",
    "print(x_)\n",
    "\n",
    "model = LinearRegression().fit(x_,y)\n",
    "\n",
    "r_sq = model.score(x_,y)\n",
    "print(f'R square  (coefficient of determination): {r_sq}')\n",
    "\n",
    "print(f'intercept (𝜃0): {model.intercept_}')\n",
    "print(f'coefficients (𝜃): {model.coef_}')"
   ]
  },
  {
   "cell_type": "markdown",
   "id": "10ef26ac",
   "metadata": {},
   "source": [
    "#### include_bias = True in Polynomial feature transformer"
   ]
  },
  {
   "cell_type": "code",
   "execution_count": 57,
   "id": "f5404e49",
   "metadata": {},
   "outputs": [
    {
     "name": "stdout",
     "output_type": "stream",
     "text": [
      "[[1.000e+00 5.000e+00 2.500e+01]\n",
      " [1.000e+00 1.500e+01 2.250e+02]\n",
      " [1.000e+00 2.500e+01 6.250e+02]\n",
      " [1.000e+00 4.500e+01 2.025e+03]\n",
      " [1.000e+00 3.700e+01 1.369e+03]\n",
      " [1.000e+00 6.700e+01 4.489e+03]\n",
      " [1.000e+00 5.500e+01 3.025e+03]]\n",
      "R square  (coefficient of determination): 0.991415533081388\n",
      "intercept (𝜃0): 51.64533429440519\n",
      "coefficients (𝜃): [ 0.00000000e+00  1.09827006e+01 -9.52302405e-03]\n"
     ]
    }
   ],
   "source": [
    "transformer = PolynomialFeatures(degree=2, include_bias=True)\n",
    "transformer.fit(x)\n",
    "x_ = transformer.transform(x)\n",
    "print(x_)\n",
    "\n",
    "model = LinearRegression().fit(x_,y)\n",
    "\n",
    "r_sq = model.score(x_,y)\n",
    "print(f'R square  (coefficient of determination): {r_sq}')\n",
    "\n",
    "print(f'intercept (𝜃0): {model.intercept_}')\n",
    "print(f'coefficients (𝜃): {model.coef_}')"
   ]
  },
  {
   "cell_type": "code",
   "execution_count": null,
   "id": "53993e61",
   "metadata": {},
   "outputs": [],
   "source": []
  },
  {
   "cell_type": "markdown",
   "id": "da6a81af",
   "metadata": {},
   "source": [
    "# Advanced Linear Regression with statsmodel"
   ]
  },
  {
   "cell_type": "code",
   "execution_count": 66,
   "id": "efbc085c",
   "metadata": {},
   "outputs": [],
   "source": [
    "import statsmodels.api as sm"
   ]
  },
  {
   "cell_type": "code",
   "execution_count": 67,
   "id": "0198cccd",
   "metadata": {},
   "outputs": [],
   "source": [
    "x = [[0, 1], [5, 1], [15, 2], [25, 5], [35, 11], [45, 15], [55, 34], [60, 35]]\n",
    "y = [4, 5, 20, 14, 32, 22, 38, 43]\n",
    "x, y = np.array(x), np.array(y)"
   ]
  },
  {
   "cell_type": "code",
   "execution_count": 70,
   "id": "9c784d7a",
   "metadata": {},
   "outputs": [
    {
     "data": {
      "text/plain": [
       "array([[ 1.,  0.,  1.],\n",
       "       [ 1.,  5.,  1.],\n",
       "       [ 1., 15.,  2.],\n",
       "       [ 1., 25.,  5.],\n",
       "       [ 1., 35., 11.],\n",
       "       [ 1., 45., 15.],\n",
       "       [ 1., 55., 34.],\n",
       "       [ 1., 60., 35.]])"
      ]
     },
     "execution_count": 70,
     "metadata": {},
     "output_type": "execute_result"
    }
   ],
   "source": [
    "x =sm.add_constant(x) #adds bias term\n",
    "x"
   ]
  },
  {
   "cell_type": "code",
   "execution_count": 77,
   "id": "f6179b76",
   "metadata": {},
   "outputs": [
    {
     "name": "stdout",
     "output_type": "stream",
     "text": [
      "                            OLS Regression Results                            \n",
      "==============================================================================\n",
      "Dep. Variable:                      y   R-squared:                       0.862\n",
      "Model:                            OLS   Adj. R-squared:                  0.806\n",
      "Method:                 Least Squares   F-statistic:                     15.56\n",
      "Date:                Sun, 08 Aug 2021   Prob (F-statistic):            0.00713\n",
      "Time:                        12:43:04   Log-Likelihood:                -24.316\n",
      "No. Observations:                   8   AIC:                             54.63\n",
      "Df Residuals:                       5   BIC:                             54.87\n",
      "Df Model:                           2                                         \n",
      "Covariance Type:            nonrobust                                         \n",
      "==============================================================================\n",
      "                 coef    std err          t      P>|t|      [0.025      0.975]\n",
      "------------------------------------------------------------------------------\n",
      "const          5.5226      4.431      1.246      0.268      -5.867      16.912\n",
      "x1             0.4471      0.285      1.567      0.178      -0.286       1.180\n",
      "x2             0.2550      0.453      0.563      0.598      -0.910       1.420\n",
      "==============================================================================\n",
      "Omnibus:                        0.561   Durbin-Watson:                   3.268\n",
      "Prob(Omnibus):                  0.755   Jarque-Bera (JB):                0.534\n",
      "Skew:                           0.380   Prob(JB):                        0.766\n",
      "Kurtosis:                       1.987   Cond. No.                         80.1\n",
      "==============================================================================\n",
      "\n",
      "Notes:\n",
      "[1] Standard Errors assume that the covariance matrix of the errors is correctly specified.\n"
     ]
    },
    {
     "name": "stderr",
     "output_type": "stream",
     "text": [
      "C:\\Users\\Devansh\\anaconda3\\lib\\site-packages\\scipy\\stats\\stats.py:1603: UserWarning: kurtosistest only valid for n>=20 ... continuing anyway, n=8\n",
      "  warnings.warn(\"kurtosistest only valid for n>=20 ... continuing \"\n"
     ]
    }
   ],
   "source": [
    "model = sm.OLS(y,x)\n",
    "results = model.fit()\n",
    "print(results.summary())"
   ]
  },
  {
   "cell_type": "code",
   "execution_count": 79,
   "id": "06cb692b",
   "metadata": {},
   "outputs": [
    {
     "data": {
      "text/plain": [
       "(array([ 5.77760476,  8.012953  , 12.73867497, 17.9744479 , 23.97529728,\n",
       "        29.4660957 , 38.78227633, 41.27265006]),\n",
       " array([ 4,  5, 20, 14, 32, 22, 38, 43]))"
      ]
     },
     "execution_count": 79,
     "metadata": {},
     "output_type": "execute_result"
    }
   ],
   "source": [
    "results.fittedvalues, y"
   ]
  },
  {
   "cell_type": "code",
   "execution_count": 81,
   "id": "940ea644",
   "metadata": {},
   "outputs": [
    {
     "data": {
      "text/plain": [
       "(array([ 5.77760476,  7.18179502,  8.58598528,  9.99017554, 11.3943658 ]),\n",
       " array([[0, 1],\n",
       "        [2, 3],\n",
       "        [4, 5],\n",
       "        [6, 7],\n",
       "        [8, 9]]))"
      ]
     },
     "execution_count": 81,
     "metadata": {},
     "output_type": "execute_result"
    }
   ],
   "source": [
    "results.predict(sm.add_constant(np.arange(10).reshape((-1,2)))), np.arange(10).reshape((-1,2))"
   ]
  },
  {
   "cell_type": "markdown",
   "id": "7c61d076",
   "metadata": {},
   "source": [
    "# Interpreting Linear Regression results using statsmodel api"
   ]
  },
  {
   "cell_type": "code",
   "execution_count": 82,
   "id": "d8c0b91e",
   "metadata": {},
   "outputs": [],
   "source": [
    "import statsmodels.api as sm\n",
    "import statsmodels.formula.api as smf\n",
    "import numpy as np\n",
    "import pandas"
   ]
  },
  {
   "cell_type": "code",
   "execution_count": 83,
   "id": "d7f6272c",
   "metadata": {},
   "outputs": [
    {
     "data": {
      "text/html": [
       "<div>\n",
       "<style scoped>\n",
       "    .dataframe tbody tr th:only-of-type {\n",
       "        vertical-align: middle;\n",
       "    }\n",
       "\n",
       "    .dataframe tbody tr th {\n",
       "        vertical-align: top;\n",
       "    }\n",
       "\n",
       "    .dataframe thead th {\n",
       "        text-align: right;\n",
       "    }\n",
       "</style>\n",
       "<table border=\"1\" class=\"dataframe\">\n",
       "  <thead>\n",
       "    <tr style=\"text-align: right;\">\n",
       "      <th></th>\n",
       "      <th>Lottery</th>\n",
       "      <th>Literacy</th>\n",
       "      <th>Wealth</th>\n",
       "      <th>Region</th>\n",
       "    </tr>\n",
       "  </thead>\n",
       "  <tbody>\n",
       "    <tr>\n",
       "      <th>0</th>\n",
       "      <td>41</td>\n",
       "      <td>37</td>\n",
       "      <td>73</td>\n",
       "      <td>E</td>\n",
       "    </tr>\n",
       "    <tr>\n",
       "      <th>1</th>\n",
       "      <td>38</td>\n",
       "      <td>51</td>\n",
       "      <td>22</td>\n",
       "      <td>N</td>\n",
       "    </tr>\n",
       "    <tr>\n",
       "      <th>2</th>\n",
       "      <td>66</td>\n",
       "      <td>13</td>\n",
       "      <td>61</td>\n",
       "      <td>C</td>\n",
       "    </tr>\n",
       "    <tr>\n",
       "      <th>3</th>\n",
       "      <td>80</td>\n",
       "      <td>46</td>\n",
       "      <td>76</td>\n",
       "      <td>E</td>\n",
       "    </tr>\n",
       "    <tr>\n",
       "      <th>4</th>\n",
       "      <td>79</td>\n",
       "      <td>69</td>\n",
       "      <td>83</td>\n",
       "      <td>E</td>\n",
       "    </tr>\n",
       "  </tbody>\n",
       "</table>\n",
       "</div>"
      ],
      "text/plain": [
       "   Lottery  Literacy  Wealth Region\n",
       "0       41        37      73      E\n",
       "1       38        51      22      N\n",
       "2       66        13      61      C\n",
       "3       80        46      76      E\n",
       "4       79        69      83      E"
      ]
     },
     "execution_count": 83,
     "metadata": {},
     "output_type": "execute_result"
    }
   ],
   "source": [
    "df = sm.datasets.get_rdataset(\"Guerry\", \"HistData\").data\n",
    "df = df[['Lottery', 'Literacy', 'Wealth', 'Region']].dropna()\n",
    "df.head()"
   ]
  },
  {
   "cell_type": "code",
   "execution_count": 86,
   "id": "dd72666e",
   "metadata": {},
   "outputs": [
    {
     "data": {
      "text/plain": [
       "85"
      ]
     },
     "execution_count": 86,
     "metadata": {},
     "output_type": "execute_result"
    }
   ],
   "source": [
    "len(df)"
   ]
  },
  {
   "cell_type": "code",
   "execution_count": 90,
   "id": "455bea6f",
   "metadata": {},
   "outputs": [
    {
     "data": {
      "text/plain": [
       "C    17\n",
       "S    17\n",
       "W    17\n",
       "N    17\n",
       "E    17\n",
       "Name: Region, dtype: int64"
      ]
     },
     "execution_count": 90,
     "metadata": {},
     "output_type": "execute_result"
    }
   ],
   "source": [
    "df.Region.value_counts()"
   ]
  },
  {
   "cell_type": "markdown",
   "id": "f6001e65",
   "metadata": {},
   "source": [
    "## Terms in summary:\n",
    "\n",
    "* Df Residuals: n-k-1 (no_of_obs - no_of_variables -1)\n",
    "* Covariance\n",
    "* R square -> most important (what percenatge)\n",
    "    * Property of linear regression - adding more variables will not reduce r-squared, will keep it same or incraese it\n",
    "* Adjusted r-squared will penalize r squared that some variables are not contributing\n",
    "* F-statistic - checks for statistical significanse of your entire group of variables and validates null hypo\n",
    "* Log-Likelihood - \n",
    "* AIC-BIC : Used for feature selection \n"
   ]
  },
  {
   "cell_type": "code",
   "execution_count": 94,
   "id": "f12d6ac5",
   "metadata": {},
   "outputs": [
    {
     "name": "stdout",
     "output_type": "stream",
     "text": [
      "                            OLS Regression Results                            \n",
      "==============================================================================\n",
      "Dep. Variable:                Lottery   R-squared:                       0.338\n",
      "Model:                            OLS   Adj. R-squared:                  0.287\n",
      "Method:                 Least Squares   F-statistic:                     6.636\n",
      "Date:                Sun, 08 Aug 2021   Prob (F-statistic):           1.07e-05\n",
      "Time:                        12:58:19   Log-Likelihood:                -375.30\n",
      "No. Observations:                  85   AIC:                             764.6\n",
      "Df Residuals:                      78   BIC:                             781.7\n",
      "Df Model:                           6                                         \n",
      "Covariance Type:            nonrobust                                         \n",
      "===============================================================================\n",
      "                  coef    std err          t      P>|t|      [0.025      0.975]\n",
      "-------------------------------------------------------------------------------\n",
      "Intercept      38.6517      9.456      4.087      0.000      19.826      57.478\n",
      "Region[T.E]   -15.4278      9.727     -1.586      0.117     -34.793       3.938\n",
      "Region[T.N]   -10.0170      9.260     -1.082      0.283     -28.453       8.419\n",
      "Region[T.S]    -4.5483      7.279     -0.625      0.534     -19.039       9.943\n",
      "Region[T.W]   -10.0913      7.196     -1.402      0.165     -24.418       4.235\n",
      "Literacy       -0.1858      0.210     -0.886      0.378      -0.603       0.232\n",
      "Wealth          0.4515      0.103      4.390      0.000       0.247       0.656\n",
      "==============================================================================\n",
      "Omnibus:                        3.049   Durbin-Watson:                   1.785\n",
      "Prob(Omnibus):                  0.218   Jarque-Bera (JB):                2.694\n",
      "Skew:                          -0.340   Prob(JB):                        0.260\n",
      "Kurtosis:                       2.454   Cond. No.                         371.\n",
      "==============================================================================\n",
      "\n",
      "Notes:\n",
      "[1] Standard Errors assume that the covariance matrix of the errors is correctly specified.\n"
     ]
    }
   ],
   "source": [
    "mod = smf.ols(formula='Lottery ~ Literacy + Wealth + Region', data=df) \n",
    "#formula = 'dependant_variables ~ comibantion of independent variables'\n",
    "res = mod.fit()\n",
    "print(res.summary())"
   ]
  },
  {
   "cell_type": "code",
   "execution_count": 85,
   "id": "698955df",
   "metadata": {},
   "outputs": [
    {
     "name": "stdout",
     "output_type": "stream",
     "text": [
      "Intercept         38.651655\n",
      "C(Region)[T.E]   -15.427785\n",
      "C(Region)[T.N]   -10.016961\n",
      "C(Region)[T.S]    -4.548257\n",
      "C(Region)[T.W]   -10.091276\n",
      "Literacy          -0.185819\n",
      "Wealth             0.451475\n",
      "dtype: float64\n"
     ]
    }
   ],
   "source": [
    "res = smf.ols(formula='Lottery ~ Literacy + Wealth + C(Region)', data=df).fit()\n",
    "print(res.params)"
   ]
  },
  {
   "cell_type": "code",
   "execution_count": null,
   "id": "88ee2f4f",
   "metadata": {},
   "outputs": [],
   "source": []
  }
 ],
 "metadata": {
  "kernelspec": {
   "display_name": "Python 3",
   "language": "python",
   "name": "python3"
  },
  "language_info": {
   "codemirror_mode": {
    "name": "ipython",
    "version": 3
   },
   "file_extension": ".py",
   "mimetype": "text/x-python",
   "name": "python",
   "nbconvert_exporter": "python",
   "pygments_lexer": "ipython3",
   "version": "3.8.8"
  }
 },
 "nbformat": 4,
 "nbformat_minor": 5
}
