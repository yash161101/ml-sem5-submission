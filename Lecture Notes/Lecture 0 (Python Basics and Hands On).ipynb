{
 "cells": [
  {
   "cell_type": "markdown",
   "id": "e34a7c5f",
   "metadata": {},
   "source": [
    "### How python flows?\n",
    "\n",
    "* High level Python Code $\\rightarrow$ Interpreter $\\rightarrow$ Machine language"
   ]
  },
  {
   "cell_type": "markdown",
   "id": "074aaa67",
   "metadata": {},
   "source": [
    "# 1. Variables"
   ]
  },
  {
   "cell_type": "code",
   "execution_count": 2,
   "id": "c47c2126",
   "metadata": {},
   "outputs": [
    {
     "data": {
      "text/plain": [
       "(int, str)"
      ]
     },
     "execution_count": 2,
     "metadata": {},
     "output_type": "execute_result"
    }
   ],
   "source": [
    "myFirstVariable = 1\n",
    "mySecondVariable = 'Test'\n",
    "\n",
    "type(myFirstVariable), type(mySecondVariable)"
   ]
  },
  {
   "cell_type": "code",
   "execution_count": 4,
   "id": "6fbffe74",
   "metadata": {},
   "outputs": [
    {
     "data": {
      "text/plain": [
       "(3, 3)"
      ]
     },
     "execution_count": 4,
     "metadata": {},
     "output_type": "execute_result"
    }
   ],
   "source": [
    "myFirstVariable = mySecondtVariable = 3\n",
    "\n",
    "myFirstVariable, mySecondtVariable"
   ]
  },
  {
   "cell_type": "code",
   "execution_count": 6,
   "id": "6cf644ad",
   "metadata": {},
   "outputs": [
    {
     "data": {
      "text/plain": [
       "(3, 4.2)"
      ]
     },
     "execution_count": 6,
     "metadata": {},
     "output_type": "execute_result"
    }
   ],
   "source": [
    "myFirstVariable, mySecondtVariable = 3,4.2\n",
    "myFirstVariable, mySecondtVariable"
   ]
  },
  {
   "cell_type": "code",
   "execution_count": 8,
   "id": "3442f503",
   "metadata": {},
   "outputs": [],
   "source": [
    "myFirstString = 'test' \n",
    "myFirstString = \"test\"\n",
    "myFirstString = '''test''' #Multiline string"
   ]
  },
  {
   "cell_type": "code",
   "execution_count": 10,
   "id": "40678640",
   "metadata": {},
   "outputs": [
    {
     "data": {
      "text/plain": [
       "'variable is 3 and string is test'"
      ]
     },
     "execution_count": 10,
     "metadata": {},
     "output_type": "execute_result"
    }
   ],
   "source": [
    "fStringOne = f'variable is {myFirstVariable} and string is {myFirstString}' #used in print statement, logging, complex and repetative query execution\n",
    "fStringOne"
   ]
  },
  {
   "cell_type": "code",
   "execution_count": 18,
   "id": "27b6ad5d",
   "metadata": {},
   "outputs": [
    {
     "data": {
      "text/plain": [
       "(1, 1)"
      ]
     },
     "execution_count": 18,
     "metadata": {},
     "output_type": "execute_result"
    }
   ],
   "source": [
    "a = 1\n",
    "b = a\n",
    "a,b"
   ]
  },
  {
   "cell_type": "code",
   "execution_count": 28,
   "id": "1f068223",
   "metadata": {},
   "outputs": [
    {
     "data": {
      "text/plain": [
       "(2, 1)"
      ]
     },
     "execution_count": 28,
     "metadata": {},
     "output_type": "execute_result"
    }
   ],
   "source": [
    "a = 2\n",
    "a,b    "
   ]
  },
  {
   "cell_type": "code",
   "execution_count": 29,
   "id": "383080c0",
   "metadata": {},
   "outputs": [],
   "source": [
    "del a"
   ]
  },
  {
   "cell_type": "code",
   "execution_count": 30,
   "id": "c5be62ce",
   "metadata": {},
   "outputs": [
    {
     "name": "stdout",
     "output_type": "stream",
     "text": [
      "variable is 3 and string is test\n"
     ]
    }
   ],
   "source": [
    "print(fStringOne)"
   ]
  },
  {
   "cell_type": "code",
   "execution_count": 32,
   "id": "50d15534",
   "metadata": {},
   "outputs": [
    {
     "ename": "NameError",
     "evalue": "name 'test' is not defined",
     "output_type": "error",
     "traceback": [
      "\u001b[1;31m---------------------------------------------------------------------------\u001b[0m",
      "\u001b[1;31mNameError\u001b[0m                                 Traceback (most recent call last)",
      "\u001b[1;32m<ipython-input-32-bb8dfba194e3>\u001b[0m in \u001b[0;36m<module>\u001b[1;34m\u001b[0m\n\u001b[0;32m      2\u001b[0m     \u001b[0mtest\u001b[0m \u001b[1;33m=\u001b[0m \u001b[1;32mFalse\u001b[0m \u001b[1;31m#variable with local scope\u001b[0m\u001b[1;33m\u001b[0m\u001b[1;33m\u001b[0m\u001b[0m\n\u001b[0;32m      3\u001b[0m \u001b[1;33m\u001b[0m\u001b[0m\n\u001b[1;32m----> 4\u001b[1;33m \u001b[0mprint\u001b[0m\u001b[1;33m(\u001b[0m\u001b[0mtest\u001b[0m\u001b[1;33m)\u001b[0m \u001b[1;31m#can't be accessed\u001b[0m\u001b[1;33m\u001b[0m\u001b[1;33m\u001b[0m\u001b[0m\n\u001b[0m",
      "\u001b[1;31mNameError\u001b[0m: name 'test' is not defined"
     ]
    }
   ],
   "source": [
    "def some_function():\n",
    "    test = False #variable with local scope\n",
    "    \n",
    "print(test) #can't be accessed"
   ]
  },
  {
   "cell_type": "code",
   "execution_count": 39,
   "id": "cf8c60f5",
   "metadata": {},
   "outputs": [
    {
     "name": "stdout",
     "output_type": "stream",
     "text": [
      "True\n",
      "False\n"
     ]
    }
   ],
   "source": [
    "test = True\n",
    "print(test)\n",
    "def some_function():\n",
    "    global test\n",
    "    test = False #variable with global scope\n",
    "    \n",
    "some_function()\n",
    "print(test) #value of variable is changed"
   ]
  },
  {
   "cell_type": "code",
   "execution_count": 40,
   "id": "6e5180d7",
   "metadata": {},
   "outputs": [
    {
     "data": {
      "text/plain": [
       "bool"
      ]
     },
     "execution_count": 40,
     "metadata": {},
     "output_type": "execute_result"
    }
   ],
   "source": [
    "type(test)"
   ]
  },
  {
   "cell_type": "code",
   "execution_count": 42,
   "id": "e19ccbe0",
   "metadata": {},
   "outputs": [
    {
     "data": {
      "text/plain": [
       "(0, 10, 4, 0, 4, 2.0)"
      ]
     },
     "execution_count": 42,
     "metadata": {},
     "output_type": "execute_result"
    }
   ],
   "source": [
    "#arithmatic operations\n",
    "\n",
    "1//3, 1*10, 2**2, 2-2, 2+2, 10/5, 7%2"
   ]
  },
  {
   "cell_type": "code",
   "execution_count": 45,
   "id": "5afd046b",
   "metadata": {},
   "outputs": [
    {
     "data": {
      "text/plain": [
       "'AB'"
      ]
     },
     "execution_count": 45,
     "metadata": {},
     "output_type": "execute_result"
    }
   ],
   "source": [
    "# string operations\n",
    "'A' + 'B'\n",
    "\n",
    "\"a\"*3\n",
    "\n",
    "fStringOne[-2:]\n",
    "\n",
    "x = fStringOne[-2:] \n",
    "x\n",
    "\n",
    "len(fStringOne) #length\n",
    "\n",
    "fStringOne.find('r') #string operations\n",
    "\n",
    "int('5') #typecasting"
   ]
  },
  {
   "cell_type": "code",
   "execution_count": 60,
   "id": "f7608026",
   "metadata": {},
   "outputs": [
    {
     "data": {
      "text/plain": [
       "{-3, 1, 2, 3, 5, 6, 22}"
      ]
     },
     "execution_count": 60,
     "metadata": {},
     "output_type": "execute_result"
    }
   ],
   "source": [
    "#Sets\n",
    "\n",
    "firstSet = {2,5,1,6,3,22,-3,5}\n",
    "firstSet"
   ]
  },
  {
   "cell_type": "code",
   "execution_count": null,
   "id": "066345f8",
   "metadata": {},
   "outputs": [],
   "source": [
    "firstSet."
   ]
  },
  {
   "cell_type": "markdown",
   "id": "802eeb1f",
   "metadata": {},
   "source": [
    "## Homework: Explore all set operations and print results in a neat format"
   ]
  },
  {
   "cell_type": "markdown",
   "id": "2028b847",
   "metadata": {},
   "source": [
    "# Ternary operator\n",
    "\n",
    "[If True] if [Expression] Else [if False]"
   ]
  },
  {
   "cell_type": "code",
   "execution_count": 63,
   "id": "fbaaf19e",
   "metadata": {},
   "outputs": [
    {
     "data": {
      "text/plain": [
       "False"
      ]
     },
     "execution_count": 63,
     "metadata": {},
     "output_type": "execute_result"
    }
   ],
   "source": [
    "val = True if test else False \n",
    "\n",
    "val"
   ]
  },
  {
   "cell_type": "code",
   "execution_count": 66,
   "id": "e0e36dff",
   "metadata": {},
   "outputs": [],
   "source": [
    "# single line comment\n",
    "# multi\n",
    "# line\n",
    "# comments"
   ]
  },
  {
   "cell_type": "markdown",
   "id": "54d6302a",
   "metadata": {},
   "source": [
    "## Expressions:\n",
    "\n",
    "* Equality ==\n",
    "* Not equal !=\n",
    "* Comparison >, <, >=, <="
   ]
  },
  {
   "cell_type": "markdown",
   "id": "29b60c45",
   "metadata": {},
   "source": [
    "## Functions"
   ]
  },
  {
   "cell_type": "code",
   "execution_count": 75,
   "id": "561d6a2c",
   "metadata": {},
   "outputs": [],
   "source": [
    "def my_new_func(x, flag = True):\n",
    "    '''\n",
    "    This is a doctsring. It gives information abput the function.\n",
    "    This function prints stuff\n",
    "    \n",
    "    Arguments:\n",
    "    x: Object to be printed\n",
    "    '''\n",
    "    if flag:\n",
    "        print(f'test print {x}')\n",
    "        \n",
    "    else:\n",
    "        print('Flag is set to false')\n",
    "    \n",
    "# my_new_func('a')"
   ]
  },
  {
   "cell_type": "code",
   "execution_count": 76,
   "id": "aa57501b",
   "metadata": {},
   "outputs": [
    {
     "data": {
      "text/plain": [
       "5"
      ]
     },
     "execution_count": 76,
     "metadata": {},
     "output_type": "execute_result"
    }
   ],
   "source": [
    "len('hello')"
   ]
  },
  {
   "cell_type": "code",
   "execution_count": 78,
   "id": "1d3cfae9",
   "metadata": {},
   "outputs": [
    {
     "name": "stdout",
     "output_type": "stream",
     "text": [
      "Flag is set to false\n"
     ]
    }
   ],
   "source": [
    "my_new_func('test', flag = False)"
   ]
  },
  {
   "cell_type": "code",
   "execution_count": 85,
   "id": "5b813dcd",
   "metadata": {},
   "outputs": [
    {
     "data": {
      "text/plain": [
       "1.0"
      ]
     },
     "execution_count": 85,
     "metadata": {},
     "output_type": "execute_result"
    }
   ],
   "source": [
    "def new_func_2(a,b):\n",
    "    if b == 0:\n",
    "        return 'Invalid input for b'\n",
    "    else:\n",
    "        return a/b\n",
    "\n",
    "new_func_2(1,1)"
   ]
  },
  {
   "cell_type": "code",
   "execution_count": 87,
   "id": "450e7dea",
   "metadata": {},
   "outputs": [
    {
     "name": "stdout",
     "output_type": "stream",
     "text": [
      "division by zero\n",
      "Value of b cannot be zero\n"
     ]
    },
    {
     "data": {
      "text/plain": [
       "1.0"
      ]
     },
     "execution_count": 87,
     "metadata": {},
     "output_type": "execute_result"
    }
   ],
   "source": [
    "def new_func_3(a,b):\n",
    "    try:\n",
    "        c = a/b\n",
    "    except Exception as e:\n",
    "        print(e)\n",
    "        print('Value of b cannot be zero')\n",
    "\n",
    "new_func_3(1,0)\n",
    "new_func_2(1,1)"
   ]
  },
  {
   "cell_type": "code",
   "execution_count": 94,
   "id": "e6f24425",
   "metadata": {},
   "outputs": [],
   "source": [
    "def new_func_4(*args, **kwargs):\n",
    "    print(args)\n",
    "    print(kwargs)\n",
    "    print(args[0])\n",
    "    print(kwargs.get('a'))"
   ]
  },
  {
   "cell_type": "code",
   "execution_count": 95,
   "id": "633d6ec7",
   "metadata": {},
   "outputs": [
    {
     "name": "stdout",
     "output_type": "stream",
     "text": [
      "('alpha', 'beta')\n",
      "{'a': 1, 'b': 2}\n",
      "alpha\n",
      "1\n"
     ]
    }
   ],
   "source": [
    "alpha = 'alpha'\n",
    "beta = 'beta'\n",
    "new_func_4(alpha, beta, a=1, b=2)"
   ]
  },
  {
   "cell_type": "code",
   "execution_count": 98,
   "id": "41ce4c22",
   "metadata": {},
   "outputs": [
    {
     "data": {
      "text/plain": [
       "(2, 3)"
      ]
     },
     "execution_count": 98,
     "metadata": {},
     "output_type": "execute_result"
    }
   ],
   "source": [
    "def new_func_5(a,b):\n",
    "    return a,b\n",
    "\n",
    "x,y = new_func_5(2,3)\n",
    "x,y"
   ]
  },
  {
   "cell_type": "markdown",
   "id": "2f3926a1",
   "metadata": {},
   "source": [
    "## Lambda expressions\n",
    "\n",
    "### format: variable = lambda arguments: expression\n",
    "\n",
    "* Single expression anonymous function\n",
    "* inline function"
   ]
  },
  {
   "cell_type": "code",
   "execution_count": 100,
   "id": "7b6b01e1",
   "metadata": {},
   "outputs": [
    {
     "data": {
      "text/plain": [
       "-8"
      ]
     },
     "execution_count": 100,
     "metadata": {},
     "output_type": "execute_result"
    }
   ],
   "source": [
    "my_lambda = lambda x,y,z : (x - 100 + y - z)*2**3\n",
    "my_lambda(100,2,3)"
   ]
  },
  {
   "cell_type": "markdown",
   "id": "aea8ffa1",
   "metadata": {},
   "source": [
    "## Loops and conditionals"
   ]
  },
  {
   "cell_type": "code",
   "execution_count": 101,
   "id": "4b4136f5",
   "metadata": {},
   "outputs": [
    {
     "name": "stdout",
     "output_type": "stream",
     "text": [
      "10\n",
      "9\n",
      "8\n",
      "7\n",
      "6\n",
      "5\n",
      "4\n",
      "3\n",
      "2\n",
      "1\n"
     ]
    }
   ],
   "source": [
    "input1 = 10\n",
    "while input1 > 0:\n",
    "    print(input1)\n",
    "    input1 -= 1"
   ]
  },
  {
   "cell_type": "code",
   "execution_count": 102,
   "id": "134d8c38",
   "metadata": {},
   "outputs": [
    {
     "name": "stdout",
     "output_type": "stream",
     "text": [
      "-3\n",
      "-2\n",
      "-1\n",
      "0\n",
      "1\n",
      "2\n",
      "3\n",
      "4\n",
      "5\n",
      "6\n",
      "7\n",
      "8\n",
      "9\n"
     ]
    }
   ],
   "source": [
    "for i in range(-3,10):\n",
    "    print(i)"
   ]
  },
  {
   "cell_type": "code",
   "execution_count": 103,
   "id": "ec091adc",
   "metadata": {},
   "outputs": [
    {
     "name": "stdout",
     "output_type": "stream",
     "text": [
      "d\n",
      "g\n",
      "h\n",
      "v\n",
      "h\n",
      "s\n",
      "g\n"
     ]
    }
   ],
   "source": [
    "for i in 'dghvhsg':\n",
    "    print(i)"
   ]
  },
  {
   "cell_type": "code",
   "execution_count": 104,
   "id": "b7505e0d",
   "metadata": {},
   "outputs": [],
   "source": [
    "def factorial(n):\n",
    "    if n==0:\n",
    "        return 1\n",
    "    else:\n",
    "        return n * factorial(n-1)"
   ]
  },
  {
   "cell_type": "code",
   "execution_count": 105,
   "id": "d7ed0c0c",
   "metadata": {},
   "outputs": [
    {
     "data": {
      "text/plain": [
       "120"
      ]
     },
     "execution_count": 105,
     "metadata": {},
     "output_type": "execute_result"
    }
   ],
   "source": [
    "factorial(5)"
   ]
  },
  {
   "cell_type": "markdown",
   "id": "8b08c3ce",
   "metadata": {},
   "source": [
    "## Homework: Write a recursive function for a fibonacci series"
   ]
  },
  {
   "cell_type": "markdown",
   "id": "f74febee",
   "metadata": {},
   "source": [
    "## Collections\n",
    "\n",
    "* lists, tuples, dictionaries"
   ]
  },
  {
   "cell_type": "code",
   "execution_count": 107,
   "id": "6246470d",
   "metadata": {},
   "outputs": [],
   "source": [
    "my_list = ['A', 'B', 1, 2.5]\n",
    "my_tuple = ('f', 'm', 1)"
   ]
  },
  {
   "cell_type": "code",
   "execution_count": 108,
   "id": "10c1bf78",
   "metadata": {},
   "outputs": [
    {
     "data": {
      "text/plain": [
       "1"
      ]
     },
     "execution_count": 108,
     "metadata": {},
     "output_type": "execute_result"
    }
   ],
   "source": [
    "my_dictionary = {'a': 1, 'b': 2}\n",
    "my_dictionary['a']"
   ]
  },
  {
   "cell_type": "code",
   "execution_count": 110,
   "id": "e64c2070",
   "metadata": {},
   "outputs": [
    {
     "data": {
      "text/plain": [
       "([2, 'A', 'B', 1, 2.5], ['A', 'B', 1, 2.5])"
      ]
     },
     "execution_count": 110,
     "metadata": {},
     "output_type": "execute_result"
    }
   ],
   "source": [
    "my_list_2 = [] #empty list\n",
    "my_list_2.append(2)\n",
    "my_list_2.extend(['A', 'B', 1, 2.5])\n",
    "\n",
    "my_list_3 = list(('A', 'B', 1, 2.5)) #convert tuple/set to list\n",
    "\n",
    "my_list_2, my_list_3"
   ]
  },
  {
   "cell_type": "code",
   "execution_count": 112,
   "id": "171e9c4a",
   "metadata": {},
   "outputs": [
    {
     "data": {
      "text/plain": [
       "{'test': 4, 'test2': 5, 'test3': 6}"
      ]
     },
     "execution_count": 112,
     "metadata": {},
     "output_type": "execute_result"
    }
   ],
   "source": [
    "my_dictionary_2 = dict()\n",
    "my_dictionary_2['test'] = 4\n",
    "my_dictionary_2\n",
    "my_dictionary_2['test2'] = 5\n",
    "my_dictionary_2\n",
    "my_dictionary_2['test3'] = 6\n",
    "my_dictionary_2"
   ]
  },
  {
   "cell_type": "code",
   "execution_count": 113,
   "id": "c8ad846f",
   "metadata": {},
   "outputs": [
    {
     "name": "stdout",
     "output_type": "stream",
     "text": [
      "test 4\n",
      "test2 5\n",
      "test3 6\n"
     ]
    }
   ],
   "source": [
    "# loop over dictionary\n",
    "for key in my_dictionary_2:\n",
    "    print(key, my_dictionary_2[key])"
   ]
  },
  {
   "cell_type": "code",
   "execution_count": 114,
   "id": "ae2dbadf",
   "metadata": {},
   "outputs": [
    {
     "name": "stdout",
     "output_type": "stream",
     "text": [
      "1 0\n",
      "2 9\n",
      "3 8\n",
      "4 7\n",
      "5 6\n"
     ]
    }
   ],
   "source": [
    "#loop over 2 lists\n",
    "\n",
    "list1 = [1,2,3,4,5]\n",
    "list2 = [0,9,8,7,6]\n",
    "\n",
    "for x,y in zip(list1, list2):\n",
    "    print(x,y)"
   ]
  },
  {
   "cell_type": "code",
   "execution_count": 115,
   "id": "acc9c41d",
   "metadata": {},
   "outputs": [
    {
     "name": "stdout",
     "output_type": "stream",
     "text": [
      "0 1\n",
      "1 2\n",
      "2 3\n",
      "3 4\n",
      "4 5\n"
     ]
    }
   ],
   "source": [
    "#get index in loop\n",
    "\n",
    "for x,y in enumerate(list1):\n",
    "    print(x,y)"
   ]
  },
  {
   "cell_type": "markdown",
   "id": "90df84ad",
   "metadata": {},
   "source": [
    "## Object oriented Design - Classes"
   ]
  },
  {
   "cell_type": "code",
   "execution_count": 121,
   "id": "ad3ddb55",
   "metadata": {},
   "outputs": [
    {
     "data": {
      "text/plain": [
       "10"
      ]
     },
     "execution_count": 121,
     "metadata": {},
     "output_type": "execute_result"
    }
   ],
   "source": [
    "class MyClass:\n",
    "    def __init__(self, x):\n",
    "        self.x = x\n",
    "        \n",
    "    def MyClassFunction(self): #self = reference to the object\n",
    "        return self.x\n",
    "    \n",
    "m = MyClass(10)\n",
    "m.MyClassFunction()"
   ]
  },
  {
   "cell_type": "code",
   "execution_count": 118,
   "id": "2d5fb954",
   "metadata": {},
   "outputs": [
    {
     "name": "stdout",
     "output_type": "stream",
     "text": [
      "[5, 6]\n",
      "[5, 6]\n"
     ]
    }
   ],
   "source": [
    "a,b = 5,6\n",
    "c = [a,b]\n",
    "print(c)\n",
    "a,b = 5,7\n",
    "print(c)"
   ]
  },
  {
   "cell_type": "markdown",
   "id": "60a6957c",
   "metadata": {},
   "source": [
    "# Read/Write "
   ]
  },
  {
   "cell_type": "code",
   "execution_count": 122,
   "id": "4c0ff64f",
   "metadata": {},
   "outputs": [
    {
     "name": "stdout",
     "output_type": "stream",
     "text": [
      "Python is an interpreted high-level general-purpose programming language. Python's design philosophy emphasizes code readability with its notable use of significant indentation. Its language constructs as well as its object-oriented approach aim to help programmers write clear, logical code for small and large-scale projects.\n"
     ]
    }
   ],
   "source": [
    "test = input()"
   ]
  },
  {
   "cell_type": "code",
   "execution_count": 125,
   "id": "88f88657",
   "metadata": {},
   "outputs": [],
   "source": [
    "with open('text_file.txt', 'w') as my_file:\n",
    "    my_file.write(test)"
   ]
  },
  {
   "cell_type": "code",
   "execution_count": 126,
   "id": "69a5e132",
   "metadata": {},
   "outputs": [
    {
     "name": "stdout",
     "output_type": "stream",
     "text": [
      "Python is an interpreted high-level general-purpose programming language. Python's design philosophy emphasizes code readability with its notable use of significant indentation. Its language constructs as well as its object-oriented approach aim to help programmers write clear, logical code for small and large-scale projects.\n"
     ]
    }
   ],
   "source": [
    "with open('text_file.txt', 'r') as my_file:\n",
    "    for line in my_file:\n",
    "        print(line)"
   ]
  },
  {
   "cell_type": "code",
   "execution_count": null,
   "id": "49363e98",
   "metadata": {},
   "outputs": [],
   "source": []
  }
 ],
 "metadata": {
  "kernelspec": {
   "display_name": "Python 3",
   "language": "python",
   "name": "python3"
  },
  "language_info": {
   "codemirror_mode": {
    "name": "ipython",
    "version": 3
   },
   "file_extension": ".py",
   "mimetype": "text/x-python",
   "name": "python",
   "nbconvert_exporter": "python",
   "pygments_lexer": "ipython3",
   "version": "3.8.8"
  }
 },
 "nbformat": 4,
 "nbformat_minor": 5
}
